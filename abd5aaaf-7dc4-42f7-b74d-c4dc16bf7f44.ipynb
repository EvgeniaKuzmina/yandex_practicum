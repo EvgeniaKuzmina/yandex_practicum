{
 "cells": [
  {
   "cell_type": "markdown",
   "id": "471c9b83",
   "metadata": {},
   "source": [
    "Из «Бета-Банка» стали уходить клиенты. Каждый месяц. Немного, но заметно. Банковские маркетологи посчитали: сохранять текущих клиентов дешевле, чем привлекать новых.\n",
    "\n",
    "Нужно спрогнозировать, уйдёт клиент из банка в ближайшее время или нет. Вам предоставлены исторические данные о поведении клиентов и расторжении договоров с банком.\n",
    "\n",
    "Постройте модель с предельно большим значением F1-меры. Чтобы сдать проект успешно, нужно довести метрику до 0.59. Проверьте F1-меру на тестовой выборке самостоятельно.\n",
    "\n",
    "Дополнительно измеряйте AUC-ROC, сравнивайте её значение с F1-мерой.\n",
    "\n",
    "Источник данных: https://www.kaggle.com/barelydedicated/bank-customer-churn-modeling"
   ]
  },
  {
   "cell_type": "markdown",
   "id": "4ef61f09",
   "metadata": {},
   "source": [
    "## 1. Подготовка данных"
   ]
  },
  {
   "cell_type": "code",
   "execution_count": 1,
   "id": "73a21aaa",
   "metadata": {},
   "outputs": [],
   "source": [
    "import pandas as pd\n",
    "import matplotlib.pyplot as plt\n",
    "import numpy as np\n",
    "import seaborn as sns\n",
    "from sklearn.model_selection import StratifiedKFold, KFold\n",
    "from sklearn.tree import DecisionTreeClassifier\n",
    "from sklearn.ensemble import RandomForestClassifier\n",
    "from sklearn.linear_model import LogisticRegression\n",
    "from sklearn.model_selection import train_test_split\n",
    "from sklearn.preprocessing import OrdinalEncoder\n",
    "from sklearn.preprocessing import StandardScaler\n",
    "from sklearn.metrics import f1_score\n",
    "from sklearn.utils import shuffle\n",
    "from sklearn.metrics import roc_curve\n",
    "from sklearn.metrics import roc_auc_score\n",
    "from sklearn.metrics import accuracy_score\n",
    "from sklearn.metrics import confusion_matrix\n",
    "from sklearn.metrics import recall_score\n",
    "from sklearn.metrics import precision_score"
   ]
  },
  {
   "cell_type": "code",
   "execution_count": 2,
   "id": "9b3a6441",
   "metadata": {},
   "outputs": [],
   "source": [
    "try:\n",
    "    data = pd.read_csv(r'C:\\Users\\kuzmi\\Downloads\\Churn.csv')\n",
    "except:\n",
    "    data = pd.read_csv('/datasets/Churn.csv')"
   ]
  },
  {
   "cell_type": "code",
   "execution_count": 3,
   "id": "4c5fa490",
   "metadata": {},
   "outputs": [
    {
     "data": {
      "text/html": [
       "<div>\n",
       "<style scoped>\n",
       "    .dataframe tbody tr th:only-of-type {\n",
       "        vertical-align: middle;\n",
       "    }\n",
       "\n",
       "    .dataframe tbody tr th {\n",
       "        vertical-align: top;\n",
       "    }\n",
       "\n",
       "    .dataframe thead th {\n",
       "        text-align: right;\n",
       "    }\n",
       "</style>\n",
       "<table border=\"1\" class=\"dataframe\">\n",
       "  <thead>\n",
       "    <tr style=\"text-align: right;\">\n",
       "      <th></th>\n",
       "      <th>RowNumber</th>\n",
       "      <th>CustomerId</th>\n",
       "      <th>Surname</th>\n",
       "      <th>CreditScore</th>\n",
       "      <th>Geography</th>\n",
       "      <th>Gender</th>\n",
       "      <th>Age</th>\n",
       "      <th>Tenure</th>\n",
       "      <th>Balance</th>\n",
       "      <th>NumOfProducts</th>\n",
       "      <th>HasCrCard</th>\n",
       "      <th>IsActiveMember</th>\n",
       "      <th>EstimatedSalary</th>\n",
       "      <th>Exited</th>\n",
       "    </tr>\n",
       "  </thead>\n",
       "  <tbody>\n",
       "    <tr>\n",
       "      <th>0</th>\n",
       "      <td>1</td>\n",
       "      <td>15634602</td>\n",
       "      <td>Hargrave</td>\n",
       "      <td>619</td>\n",
       "      <td>France</td>\n",
       "      <td>Female</td>\n",
       "      <td>42</td>\n",
       "      <td>2.0</td>\n",
       "      <td>0.00</td>\n",
       "      <td>1</td>\n",
       "      <td>1</td>\n",
       "      <td>1</td>\n",
       "      <td>101348.88</td>\n",
       "      <td>1</td>\n",
       "    </tr>\n",
       "    <tr>\n",
       "      <th>1</th>\n",
       "      <td>2</td>\n",
       "      <td>15647311</td>\n",
       "      <td>Hill</td>\n",
       "      <td>608</td>\n",
       "      <td>Spain</td>\n",
       "      <td>Female</td>\n",
       "      <td>41</td>\n",
       "      <td>1.0</td>\n",
       "      <td>83807.86</td>\n",
       "      <td>1</td>\n",
       "      <td>0</td>\n",
       "      <td>1</td>\n",
       "      <td>112542.58</td>\n",
       "      <td>0</td>\n",
       "    </tr>\n",
       "    <tr>\n",
       "      <th>2</th>\n",
       "      <td>3</td>\n",
       "      <td>15619304</td>\n",
       "      <td>Onio</td>\n",
       "      <td>502</td>\n",
       "      <td>France</td>\n",
       "      <td>Female</td>\n",
       "      <td>42</td>\n",
       "      <td>8.0</td>\n",
       "      <td>159660.80</td>\n",
       "      <td>3</td>\n",
       "      <td>1</td>\n",
       "      <td>0</td>\n",
       "      <td>113931.57</td>\n",
       "      <td>1</td>\n",
       "    </tr>\n",
       "    <tr>\n",
       "      <th>3</th>\n",
       "      <td>4</td>\n",
       "      <td>15701354</td>\n",
       "      <td>Boni</td>\n",
       "      <td>699</td>\n",
       "      <td>France</td>\n",
       "      <td>Female</td>\n",
       "      <td>39</td>\n",
       "      <td>1.0</td>\n",
       "      <td>0.00</td>\n",
       "      <td>2</td>\n",
       "      <td>0</td>\n",
       "      <td>0</td>\n",
       "      <td>93826.63</td>\n",
       "      <td>0</td>\n",
       "    </tr>\n",
       "    <tr>\n",
       "      <th>4</th>\n",
       "      <td>5</td>\n",
       "      <td>15737888</td>\n",
       "      <td>Mitchell</td>\n",
       "      <td>850</td>\n",
       "      <td>Spain</td>\n",
       "      <td>Female</td>\n",
       "      <td>43</td>\n",
       "      <td>2.0</td>\n",
       "      <td>125510.82</td>\n",
       "      <td>1</td>\n",
       "      <td>1</td>\n",
       "      <td>1</td>\n",
       "      <td>79084.10</td>\n",
       "      <td>0</td>\n",
       "    </tr>\n",
       "  </tbody>\n",
       "</table>\n",
       "</div>"
      ],
      "text/plain": [
       "   RowNumber  CustomerId   Surname  CreditScore Geography  Gender  Age  \\\n",
       "0          1    15634602  Hargrave          619    France  Female   42   \n",
       "1          2    15647311      Hill          608     Spain  Female   41   \n",
       "2          3    15619304      Onio          502    France  Female   42   \n",
       "3          4    15701354      Boni          699    France  Female   39   \n",
       "4          5    15737888  Mitchell          850     Spain  Female   43   \n",
       "\n",
       "   Tenure    Balance  NumOfProducts  HasCrCard  IsActiveMember  \\\n",
       "0     2.0       0.00              1          1               1   \n",
       "1     1.0   83807.86              1          0               1   \n",
       "2     8.0  159660.80              3          1               0   \n",
       "3     1.0       0.00              2          0               0   \n",
       "4     2.0  125510.82              1          1               1   \n",
       "\n",
       "   EstimatedSalary  Exited  \n",
       "0        101348.88       1  \n",
       "1        112542.58       0  \n",
       "2        113931.57       1  \n",
       "3         93826.63       0  \n",
       "4         79084.10       0  "
      ]
     },
     "execution_count": 3,
     "metadata": {},
     "output_type": "execute_result"
    }
   ],
   "source": [
    "data.head()"
   ]
  },
  {
   "cell_type": "code",
   "execution_count": 4,
   "id": "6dd47507",
   "metadata": {},
   "outputs": [
    {
     "data": {
      "text/plain": [
       "Index(['RowNumber', 'CustomerId', 'Surname', 'CreditScore', 'Geography',\n",
       "       'Gender', 'Age', 'Tenure', 'Balance', 'NumOfProducts', 'HasCrCard',\n",
       "       'IsActiveMember', 'EstimatedSalary', 'Exited'],\n",
       "      dtype='object')"
      ]
     },
     "execution_count": 4,
     "metadata": {},
     "output_type": "execute_result"
    }
   ],
   "source": [
    "data.columns"
   ]
  },
  {
   "cell_type": "code",
   "execution_count": 5,
   "id": "18c0f0de",
   "metadata": {},
   "outputs": [],
   "source": [
    "data.columns = ['Row_Number', 'Customer_Id', 'Surname', 'Credit_Score', 'Geography',\n",
    "       'Gender', 'Age', 'Tenure', 'Balance', 'Num_Of_Products', 'Has_Cr_Card',\n",
    "       'Is_Active_Member', 'Estimated_Salary', 'Exited']"
   ]
  },
  {
   "cell_type": "code",
   "execution_count": 6,
   "id": "9ef0aece",
   "metadata": {},
   "outputs": [],
   "source": [
    "data.columns=data.columns.str.lower()"
   ]
  },
  {
   "cell_type": "code",
   "execution_count": 7,
   "id": "d679c62c",
   "metadata": {},
   "outputs": [
    {
     "name": "stdout",
     "output_type": "stream",
     "text": [
      "<class 'pandas.core.frame.DataFrame'>\n",
      "RangeIndex: 10000 entries, 0 to 9999\n",
      "Data columns (total 14 columns):\n",
      " #   Column            Non-Null Count  Dtype  \n",
      "---  ------            --------------  -----  \n",
      " 0   row_number        10000 non-null  int64  \n",
      " 1   customer_id       10000 non-null  int64  \n",
      " 2   surname           10000 non-null  object \n",
      " 3   credit_score      10000 non-null  int64  \n",
      " 4   geography         10000 non-null  object \n",
      " 5   gender            10000 non-null  object \n",
      " 6   age               10000 non-null  int64  \n",
      " 7   tenure            9091 non-null   float64\n",
      " 8   balance           10000 non-null  float64\n",
      " 9   num_of_products   10000 non-null  int64  \n",
      " 10  has_cr_card       10000 non-null  int64  \n",
      " 11  is_active_member  10000 non-null  int64  \n",
      " 12  estimated_salary  10000 non-null  float64\n",
      " 13  exited            10000 non-null  int64  \n",
      "dtypes: float64(3), int64(8), object(3)\n",
      "memory usage: 1.1+ MB\n"
     ]
    }
   ],
   "source": [
    "data.info()"
   ]
  },
  {
   "cell_type": "markdown",
   "id": "724f9dec",
   "metadata": {},
   "source": [
    "Tenure - сколько лет человек является клиентом банка. Скорее всего, пропуски в этом столбце означают, что ни один год еще не прошел, поэтому заполним пропуски нулями"
   ]
  },
  {
   "cell_type": "code",
   "execution_count": 8,
   "id": "2355e38d",
   "metadata": {},
   "outputs": [],
   "source": [
    "data['tenure'] = data['tenure'].fillna(0) "
   ]
  },
  {
   "cell_type": "code",
   "execution_count": 9,
   "id": "216f12d3",
   "metadata": {},
   "outputs": [],
   "source": [
    "data = data.drop(['row_number', 'customer_id', 'surname'], axis=1)"
   ]
  },
  {
   "cell_type": "code",
   "execution_count": 10,
   "id": "f8169ce9",
   "metadata": {},
   "outputs": [
    {
     "name": "stdout",
     "output_type": "stream",
     "text": [
      "<class 'pandas.core.frame.DataFrame'>\n",
      "RangeIndex: 10000 entries, 0 to 9999\n",
      "Data columns (total 11 columns):\n",
      " #   Column            Non-Null Count  Dtype  \n",
      "---  ------            --------------  -----  \n",
      " 0   credit_score      10000 non-null  int64  \n",
      " 1   geography         10000 non-null  object \n",
      " 2   gender            10000 non-null  object \n",
      " 3   age               10000 non-null  int64  \n",
      " 4   tenure            10000 non-null  float64\n",
      " 5   balance           10000 non-null  float64\n",
      " 6   num_of_products   10000 non-null  int64  \n",
      " 7   has_cr_card       10000 non-null  int64  \n",
      " 8   is_active_member  10000 non-null  int64  \n",
      " 9   estimated_salary  10000 non-null  float64\n",
      " 10  exited            10000 non-null  int64  \n",
      "dtypes: float64(3), int64(6), object(2)\n",
      "memory usage: 859.5+ KB\n"
     ]
    }
   ],
   "source": [
    "data.info()"
   ]
  },
  {
   "cell_type": "code",
   "execution_count": 11,
   "id": "2778d725",
   "metadata": {},
   "outputs": [
    {
     "data": {
      "text/plain": [
       "array(['Female', 'Male'], dtype=object)"
      ]
     },
     "execution_count": 11,
     "metadata": {},
     "output_type": "execute_result"
    }
   ],
   "source": [
    "data['gender'].unique()"
   ]
  },
  {
   "cell_type": "code",
   "execution_count": 12,
   "id": "a8039acb",
   "metadata": {},
   "outputs": [
    {
     "data": {
      "text/plain": [
       "array(['France', 'Spain', 'Germany'], dtype=object)"
      ]
     },
     "execution_count": 12,
     "metadata": {},
     "output_type": "execute_result"
    }
   ],
   "source": [
    "data['geography'].unique()"
   ]
  },
  {
   "cell_type": "code",
   "execution_count": 13,
   "id": "ea85ac28",
   "metadata": {},
   "outputs": [
    {
     "data": {
      "text/plain": [
       "credit_score        0\n",
       "geography           0\n",
       "gender              0\n",
       "age                 0\n",
       "tenure              0\n",
       "balance             0\n",
       "num_of_products     0\n",
       "has_cr_card         0\n",
       "is_active_member    0\n",
       "estimated_salary    0\n",
       "exited              0\n",
       "dtype: int64"
      ]
     },
     "execution_count": 13,
     "metadata": {},
     "output_type": "execute_result"
    }
   ],
   "source": [
    "data.isna().sum()"
   ]
  },
  {
   "cell_type": "code",
   "execution_count": 14,
   "id": "c3add066",
   "metadata": {},
   "outputs": [
    {
     "data": {
      "text/plain": [
       "0"
      ]
     },
     "execution_count": 14,
     "metadata": {},
     "output_type": "execute_result"
    }
   ],
   "source": [
    "data.duplicated().sum()"
   ]
  },
  {
   "cell_type": "code",
   "execution_count": 15,
   "id": "4408c052",
   "metadata": {},
   "outputs": [
    {
     "data": {
      "text/plain": [
       "<AxesSubplot:>"
      ]
     },
     "execution_count": 15,
     "metadata": {},
     "output_type": "execute_result"
    },
    {
     "data": {
      "image/png": "[encoded data removed]",
      "text/plain": [
       "<Figure size 1080x360 with 2 Axes>"
      ]
     },
     "metadata": {
      "needs_background": "light"
     },
     "output_type": "display_data"
    }
   ],
   "source": [
    "correlation = data.corr()\n",
    "plt.figure(figsize = (15,5))\n",
    "sns.heatmap(correlation, annot = True)"
   ]
  },
  {
   "cell_type": "markdown",
   "id": "8f907d49",
   "metadata": {},
   "source": [
    "Пропусков и дубликатов нет. На матрице корреляции не видно сильных зависимостей - отсуствует мультиколлинеарность, которая могла бы затруднить интерпретацию результатов регрессии."
   ]
  },
  {
   "cell_type": "markdown",
   "id": "f4ecd628",
   "metadata": {},
   "source": [
    "## 2. Исследование задачи"
   ]
  },
  {
   "cell_type": "markdown",
   "id": "cc49f971",
   "metadata": {},
   "source": [
    "Gender и geografy - признаки категориальныу, переводим в количественные. Чтобы избежать дамми-ловушки, избавимся от первого столбца"
   ]
  },
  {
   "cell_type": "code",
   "execution_count": 16,
   "id": "50180a00",
   "metadata": {},
   "outputs": [],
   "source": [
    "data_ohe = pd.get_dummies(data, drop_first=True)"
   ]
  },
  {
   "cell_type": "code",
   "execution_count": 17,
   "id": "37179a84",
   "metadata": {},
   "outputs": [],
   "source": [
    "target = data_ohe['exited']\n",
    "features = data_ohe.drop('exited', axis=1)"
   ]
  },
  {
   "cell_type": "markdown",
   "id": "5234b382",
   "metadata": {},
   "source": [
    "Делим данные на обучающую, валидационную и тестовую выборки (60:20:20)"
   ]
  },
  {
   "cell_type": "code",
   "execution_count": 18,
   "id": "e2c0d0e4",
   "metadata": {},
   "outputs": [],
   "source": [
    "features_train, features_test, target_train, target_test = train_test_split(features, \n",
    "                                                                            target, \n",
    "                                                                            test_size=0.2, \n",
    "                                                                            random_state=12345,\n",
    "                                                                            stratify=target)\n",
    "\n",
    "features_train, features_valid, target_train, target_valid = train_test_split(features_train, \n",
    "                                                                              target_train, \n",
    "                                                                              test_size=0.25, \n",
    "                                                                              random_state=12345)"
   ]
  },
  {
   "cell_type": "code",
   "execution_count": 19,
   "id": "662a956a",
   "metadata": {},
   "outputs": [
    {
     "data": {
      "text/plain": [
       "6000"
      ]
     },
     "execution_count": 19,
     "metadata": {},
     "output_type": "execute_result"
    }
   ],
   "source": [
    "len(features_train)"
   ]
  },
  {
   "cell_type": "code",
   "execution_count": 20,
   "id": "25151ba7",
   "metadata": {},
   "outputs": [
    {
     "data": {
      "text/plain": [
       "2000"
      ]
     },
     "execution_count": 20,
     "metadata": {},
     "output_type": "execute_result"
    }
   ],
   "source": [
    "len(features_valid)"
   ]
  },
  {
   "cell_type": "code",
   "execution_count": 21,
   "id": "d027b4bc",
   "metadata": {},
   "outputs": [
    {
     "data": {
      "text/plain": [
       "2000"
      ]
     },
     "execution_count": 21,
     "metadata": {},
     "output_type": "execute_result"
    }
   ],
   "source": [
    "len(features_test)"
   ]
  },
  {
   "cell_type": "markdown",
   "id": "87e430fe",
   "metadata": {},
   "source": [
    "Стандартизируем численные признаки"
   ]
  },
  {
   "cell_type": "code",
   "execution_count": 22,
   "id": "e9720dd2",
   "metadata": {},
   "outputs": [
    {
     "name": "stderr",
     "output_type": "stream",
     "text": [
      "/tmp/ipykernel_185/3657596940.py:6: SettingWithCopyWarning: \n",
      "A value is trying to be set on a copy of a slice from a DataFrame.\n",
      "Try using .loc[row_indexer,col_indexer] = value instead\n",
      "\n",
      "See the caveats in the documentation: https://pandas.pydata.org/pandas-docs/stable/user_guide/indexing.html#returning-a-view-versus-a-copy\n",
      "  features_test[numeric]=scaler.transform(features_test[numeric])\n",
      "/opt/conda/lib/python3.9/site-packages/pandas/core/indexing.py:1738: SettingWithCopyWarning: \n",
      "A value is trying to be set on a copy of a slice from a DataFrame.\n",
      "Try using .loc[row_indexer,col_indexer] = value instead\n",
      "\n",
      "See the caveats in the documentation: https://pandas.pydata.org/pandas-docs/stable/user_guide/indexing.html#returning-a-view-versus-a-copy\n",
      "  self._setitem_single_column(loc, value[:, i].tolist(), pi)\n"
     ]
    }
   ],
   "source": [
    "numeric=['credit_score','age','tenure','balance','num_of_products']\n",
    "scaler=StandardScaler()\n",
    "scaler.fit(features_train[numeric])\n",
    "features_train[numeric]=scaler.transform(features_train[numeric])\n",
    "features_valid[numeric]=scaler.transform(features_valid[numeric])\n",
    "features_test[numeric]=scaler.transform(features_test[numeric])"
   ]
  },
  {
   "cell_type": "markdown",
   "id": "8c97b6e3",
   "metadata": {},
   "source": [
    "Посмотрим на баланс классов"
   ]
  },
  {
   "cell_type": "code",
   "execution_count": 23,
   "id": "43aacaf7",
   "metadata": {},
   "outputs": [
    {
     "data": {
      "text/plain": [
       "0    0.7963\n",
       "1    0.2037\n",
       "Name: exited, dtype: float64"
      ]
     },
     "execution_count": 23,
     "metadata": {},
     "output_type": "execute_result"
    }
   ],
   "source": [
    "data['exited'].value_counts(normalize=1)"
   ]
  },
  {
   "cell_type": "markdown",
   "id": "03290b1f",
   "metadata": {},
   "source": [
    "### Обучение модели без учета дисбаланса"
   ]
  },
  {
   "cell_type": "markdown",
   "id": "ce6ae364",
   "metadata": {},
   "source": [
    "#### Дерево решений"
   ]
  },
  {
   "cell_type": "code",
   "execution_count": 24,
   "id": "da00fb66",
   "metadata": {},
   "outputs": [
    {
     "ename": "NameError",
     "evalue": "name 'best_depth' is not defined",
     "output_type": "error",
     "traceback": [
      "\u001b[0;31m---------------------------------------------------------------------------\u001b[0m",
      "\u001b[0;31mNameError\u001b[0m                                 Traceback (most recent call last)",
      "\u001b[0;32m<timed exec>\u001b[0m in \u001b[0;36m<module>\u001b[0;34m\u001b[0m\n",
      "\u001b[0;31mNameError\u001b[0m: name 'best_depth' is not defined"
     ]
    }
   ],
   "source": [
    "%%time\n",
    "\n",
    "best_model = None\n",
    "best_f1 = 0\n",
    "for depth in range(1, 25):\n",
    "    model_tree = DecisionTreeClassifier(random_state=12345,\n",
    "                                        max_depth=best_depth)\n",
    "    model_tree.fit(features_train, target_train)\n",
    "    predictions_valid_tree = model_tree.predict(features_valid)\n",
    "    f1_tree = f1_score(target_valid, predictions_valid_tree)\n",
    "    if f1_tree > best_f1:\n",
    "        best_model = model_tree\n",
    "        best_depth = depth\n",
    "        best_f1 = f1_tree\n",
    "\n",
    "print('Оптимальная глубина дерева =', best_depth) \n",
    "print('Качество модели - ', f1_tree)"
   ]
  },
  {
   "cell_type": "code",
   "execution_count": 25,
   "id": "da6df4c4",
   "metadata": {},
   "outputs": [],
   "source": [
    "model_tree = DecisionTreeClassifier(random_state=12345,\n",
    "                                    max_depth=7)\n",
    "model_tree.fit(features_train, target_train)\n",
    "predictions_valid_tree = model_tree.predict(features_valid)"
   ]
  },
  {
   "cell_type": "code",
   "execution_count": 26,
   "id": "137effa2",
   "metadata": {},
   "outputs": [
    {
     "name": "stdout",
     "output_type": "stream",
     "text": [
      "Accuracy_tree: 0.849\n",
      "Recall_tree: 0.45754716981132076\n",
      "Precision_tree: 0.7293233082706767\n",
      "F1_tree: 0.5623188405797102\n"
     ]
    }
   ],
   "source": [
    "print(\"Accuracy_tree:\", accuracy_score(target_valid, predictions_valid_tree))\n",
    "print(\"Recall_tree:\", recall_score(target_valid, predictions_valid_tree))\n",
    "print(\"Precision_tree:\", precision_score(target_valid, predictions_valid_tree))\n",
    "print(\"F1_tree:\", f1_score(target_valid, predictions_valid_tree))"
   ]
  },
  {
   "cell_type": "code",
   "execution_count": 27,
   "id": "ac009b6e",
   "metadata": {},
   "outputs": [
    {
     "data": {
      "text/plain": [
       "array([[1389,  187],\n",
       "       [ 228,  196]])"
      ]
     },
     "execution_count": 27,
     "metadata": {},
     "output_type": "execute_result"
    }
   ],
   "source": [
    "model_DTC = DecisionTreeClassifier(random_state=12345)\n",
    "model_DTC.fit(features_train, target_train)\n",
    "DTC_prediction = model_DTC.predict(features_valid)\n",
    "confusion_matrix(target_valid, DTC_prediction)"
   ]
  },
  {
   "cell_type": "markdown",
   "id": "839984a7",
   "metadata": {},
   "source": [
    "#### Случайный лес"
   ]
  },
  {
   "cell_type": "code",
   "execution_count": 28,
   "id": "302b0832",
   "metadata": {},
   "outputs": [
    {
     "name": "stdout",
     "output_type": "stream",
     "text": [
      "Оптимальная глубина дерева = 19\n",
      "Качество модели -  0.556732223903177\n",
      "CPU times: user 12.8 s, sys: 89.7 ms, total: 12.9 s\n",
      "Wall time: 12.9 s\n"
     ]
    }
   ],
   "source": [
    "%%time\n",
    "\n",
    "best_model = None\n",
    "\n",
    "for depth in range(1, 20):\n",
    "    model_forest = RandomForestClassifier(random_state=12345, max_depth=depth)\n",
    "    model_forest.fit(features_train, target_train)\n",
    "    predictions_valid_forest = model_forest.predict(features_valid)\n",
    "    f1_forest = f1_score(target_valid, predictions_valid_forest)\n",
    "    if f1_forest > best_f1:\n",
    "        best_model = model_forest\n",
    "        best_depth = depth\n",
    "\n",
    "\n",
    "print('Оптимальная глубина дерева =', best_depth)\n",
    "print('Качество модели - ', f1_forest)"
   ]
  },
  {
   "cell_type": "code",
   "execution_count": 29,
   "id": "3da1928b",
   "metadata": {},
   "outputs": [
    {
     "name": "stdout",
     "output_type": "stream",
     "text": [
      "Количество деревьев = 15\n",
      "Качество модели -  0.5669064748201439\n"
     ]
    }
   ],
   "source": [
    "best_model = None\n",
    "best_est = 0\n",
    "for est in range(1, 16):\n",
    "    model_forest = RandomForestClassifier(random_state=12345,\n",
    "                                              n_estimators=est, \n",
    "                                              max_depth=19)\n",
    "    model_forest.fit(features_train, target_train)\n",
    "    predictions_valid_forest = model_forest.predict(features_valid)\n",
    "    f1_forest = f1_score(target_valid, predictions_valid_forest)\n",
    "    if f1_forest > best_f1:\n",
    "        best_model = model_forest\n",
    "        best_est = est\n",
    "\n",
    "\n",
    "print('Количество деревьев =', best_est)\n",
    "print('Качество модели - ', f1_forest)"
   ]
  },
  {
   "cell_type": "code",
   "execution_count": 30,
   "id": "fe2504d8",
   "metadata": {},
   "outputs": [],
   "source": [
    "model_forest = RandomForestClassifier(random_state=12345, \n",
    "                                      n_estimators=15, \n",
    "                                      max_depth=19)\n",
    "model_forest.fit(features_train, target_train)\n",
    "predictions_valid_forest = model_forest.predict(features_valid)"
   ]
  },
  {
   "cell_type": "code",
   "execution_count": 31,
   "id": "42a654c1",
   "metadata": {},
   "outputs": [
    {
     "name": "stdout",
     "output_type": "stream",
     "text": [
      "Accuracy_forest: 0.8495\n",
      "Recall_forest: 0.46462264150943394\n",
      "Precision_forest: 0.7269372693726938\n",
      "F1_forest: 0.5669064748201439\n"
     ]
    }
   ],
   "source": [
    "print(\"Accuracy_forest:\", accuracy_score(target_valid, predictions_valid_forest))\n",
    "print(\"Recall_forest:\", recall_score(target_valid, predictions_valid_forest))\n",
    "print(\"Precision_forest:\", precision_score(target_valid, predictions_valid_forest))\n",
    "print(\"F1_forest:\", f1_score(target_valid, predictions_valid_forest))"
   ]
  },
  {
   "cell_type": "code",
   "execution_count": 32,
   "id": "6d0c85a6",
   "metadata": {},
   "outputs": [
    {
     "data": {
      "text/plain": [
       "array([[1522,   54],\n",
       "       [ 240,  184]])"
      ]
     },
     "execution_count": 32,
     "metadata": {},
     "output_type": "execute_result"
    }
   ],
   "source": [
    "model_RFC = RandomForestClassifier(random_state=12345, n_estimators = 100)\n",
    "model_RFC.fit(features_train, target_train)\n",
    "RFC_prediction = model_RFC.predict(features_valid)\n",
    "confusion_matrix(target_valid, RFC_prediction)"
   ]
  },
  {
   "cell_type": "markdown",
   "id": "e7aa6eb1",
   "metadata": {},
   "source": [
    "#### Логистическая регрессия"
   ]
  },
  {
   "cell_type": "code",
   "execution_count": 33,
   "id": "76526ea6",
   "metadata": {},
   "outputs": [
    {
     "name": "stdout",
     "output_type": "stream",
     "text": [
      "CPU times: user 29.7 ms, sys: 16.2 ms, total: 45.9 ms\n",
      "Wall time: 31.3 ms\n"
     ]
    }
   ],
   "source": [
    "%%time\n",
    "model_log = LogisticRegression(random_state=12345, solver='liblinear')\n",
    "model_log.fit(features_train, target_train)\n",
    "predicted_valid_log = model_log.predict(features_valid)"
   ]
  },
  {
   "cell_type": "code",
   "execution_count": 34,
   "id": "715182ad",
   "metadata": {},
   "outputs": [
    {
     "name": "stdout",
     "output_type": "stream",
     "text": [
      "Accuracy_log: 0.788\n",
      "Recall_log: 0.0\n",
      "Precision_log: 0.0\n",
      "F1_log: 0.0\n"
     ]
    },
    {
     "name": "stderr",
     "output_type": "stream",
     "text": [
      "/opt/conda/lib/python3.9/site-packages/sklearn/metrics/_classification.py:1245: UndefinedMetricWarning: Precision is ill-defined and being set to 0.0 due to no predicted samples. Use `zero_division` parameter to control this behavior.\n",
      "  _warn_prf(average, modifier, msg_start, len(result))\n"
     ]
    }
   ],
   "source": [
    "print(\"Accuracy_log:\", accuracy_score(target_valid, predicted_valid_log))\n",
    "print(\"Recall_log:\", recall_score(target_valid, predicted_valid_log))\n",
    "print(\"Precision_log:\", precision_score(target_valid, predicted_valid_log))\n",
    "print(\"F1_log:\", f1_score(target_valid, predicted_valid_log))"
   ]
  },
  {
   "cell_type": "code",
   "execution_count": 35,
   "id": "45d916c2",
   "metadata": {},
   "outputs": [
    {
     "data": {
      "text/plain": [
       "array([[1576,    0],\n",
       "       [ 424,    0]])"
      ]
     },
     "execution_count": 35,
     "metadata": {},
     "output_type": "execute_result"
    }
   ],
   "source": [
    "model_LgR = LogisticRegression(solver = 'liblinear')\n",
    "model_LgR.fit(features_train, target_train)\n",
    "LgR_prediction = model_LgR.predict(features_valid)\n",
    "confusion_matrix(target_valid, LgR_prediction)"
   ]
  },
  {
   "cell_type": "markdown",
   "id": "cb34671a",
   "metadata": {},
   "source": [
    "Лучшее значение у модели Случайный лес"
   ]
  },
  {
   "cell_type": "markdown",
   "id": "ea280fd7",
   "metadata": {},
   "source": [
    "## 4. Борьба с дисбалансом"
   ]
  },
  {
   "cell_type": "markdown",
   "id": "e1ad3448",
   "metadata": {},
   "source": [
    "### Увеличение выборки"
   ]
  },
  {
   "cell_type": "code",
   "execution_count": 36,
   "id": "f5eb19fd",
   "metadata": {},
   "outputs": [
    {
     "name": "stdout",
     "output_type": "stream",
     "text": [
      "(9618, 11)\n",
      "(9618,)\n"
     ]
    }
   ],
   "source": [
    "def upsample(features, target, repeat):\n",
    "    features_zeros = features[target == 0]\n",
    "    features_ones = features[target == 1]\n",
    "    target_zeros = target[target == 0]\n",
    "    target_ones = target[target == 1]\n",
    "    \n",
    "    features_upsampled = pd.concat([features_zeros] + [features_ones] * repeat)\n",
    "    target_upsampled = pd.concat([target_zeros] + [target_ones] * repeat)\n",
    "    \n",
    "    features_upsampled = shuffle(features_upsampled, random_state=12345)\n",
    "    target_upsampled = shuffle(target_upsampled, random_state=12345)\n",
    "    return features_upsampled, target_upsampled\n",
    "\n",
    "features_upsampled, target_upsampled = upsample(features_train, target_train, 4)\n",
    "\n",
    "print(features_upsampled.shape)\n",
    "print(target_upsampled.shape)"
   ]
  },
  {
   "cell_type": "markdown",
   "id": "c616cc7f",
   "metadata": {},
   "source": [
    "### Уменьшение выборки"
   ]
  },
  {
   "cell_type": "code",
   "execution_count": 37,
   "id": "27662f70",
   "metadata": {},
   "outputs": [
    {
     "name": "stdout",
     "output_type": "stream",
     "text": [
      "(2404, 11)\n",
      "(2404,)\n"
     ]
    }
   ],
   "source": [
    "def downsample(features, target, fraction):\n",
    "    features_zeros = features[target == 0]\n",
    "    features_ones = features[target == 1]\n",
    "    target_zeros = target[target == 0]\n",
    "    target_ones = target[target == 1]\n",
    "\n",
    "    # fractioning samples\n",
    "    features_downsampled = pd.concat([features_zeros.sample(frac=fraction, random_state=12345)] +\n",
    "                                     [features_ones])\n",
    "    target_downsampled = pd.concat([target_zeros.sample(frac=fraction, random_state=12345)] +\n",
    "                                   [target_ones])\n",
    "    \n",
    "    features_downsampled = shuffle(features_downsampled, random_state=12345)\n",
    "    target_downsampled = shuffle(target_downsampled, random_state=12345)\n",
    "\n",
    "    return features_downsampled, target_downsampled\n",
    "\n",
    "features_downsampled, target_downsampled = downsample(features_train, target_train, 0.25)\n",
    "\n",
    "print(features_downsampled.shape)\n",
    "print(target_downsampled.shape)"
   ]
  },
  {
   "cell_type": "markdown",
   "id": "9db5875e",
   "metadata": {},
   "source": [
    "## Дерево решений после балансировки"
   ]
  },
  {
   "cell_type": "code",
   "execution_count": 38,
   "id": "a0736871",
   "metadata": {},
   "outputs": [
    {
     "name": "stdout",
     "output_type": "stream",
     "text": [
      "Оптимальная глубина дерева = 5\n",
      "Качество модели -  0.5220588235294118\n"
     ]
    }
   ],
   "source": [
    "best_model = None\n",
    "best_f1 = 0\n",
    "for depth in range(1, 10):\n",
    "    model_tree = DecisionTreeClassifier(random_state=12345,\n",
    "                                        max_depth=depth)\n",
    "    model_tree.fit(features_downsampled, target_downsampled)\n",
    "    predictions_valid_tree = model_tree.predict(features_valid)\n",
    "    f1_tree = f1_score(target_valid, predictions_valid_tree)\n",
    "    if f1_tree > best_f1:\n",
    "        best_model = model_tree\n",
    "        best_depth = depth\n",
    "        best_f1 = f1_tree\n",
    "\n",
    "print('Оптимальная глубина дерева =', best_depth) \n",
    "print('Качество модели - ', f1_tree)"
   ]
  },
  {
   "cell_type": "code",
   "execution_count": 39,
   "id": "d13f7feb",
   "metadata": {},
   "outputs": [
    {
     "name": "stdout",
     "output_type": "stream",
     "text": [
      "Оптимальная глубина дерева = 6\n",
      "Качество модели -  0.5557729941291585\n"
     ]
    }
   ],
   "source": [
    "best_model = None\n",
    "best_f1 = 0\n",
    "for depth in range(1, 10):\n",
    "    model_tree = DecisionTreeClassifier(random_state=12345,\n",
    "                                        max_depth=depth)\n",
    "    model_tree.fit(features_upsampled, target_upsampled)\n",
    "    predictions_valid_tree = model_tree.predict(features_valid)\n",
    "    f1_tree = f1_score(target_valid, predictions_valid_tree)\n",
    "    if f1_tree > best_f1:\n",
    "        best_model = model_tree\n",
    "        best_depth = depth\n",
    "        best_f1 = f1_tree\n",
    "\n",
    "print('Оптимальная глубина дерева =', best_depth) \n",
    "print('Качество модели - ', f1_tree)"
   ]
  },
  {
   "cell_type": "markdown",
   "id": "1d42148c",
   "metadata": {},
   "source": [
    "## Случайный лес после балансировки"
   ]
  },
  {
   "cell_type": "code",
   "execution_count": 40,
   "id": "146fe013",
   "metadata": {},
   "outputs": [
    {
     "name": "stdout",
     "output_type": "stream",
     "text": [
      "Оптимальное количество оценок = 100\n",
      "Оптимальная глубина дерева = 9\n"
     ]
    }
   ],
   "source": [
    "best_model = None\n",
    "for est in range(10, 101, 10):\n",
    "    for depth in range(1, 10):\n",
    "        model_forest = RandomForestClassifier(random_state=12345,\n",
    "                                              n_estimators=est, \n",
    "                                              max_depth=depth)\n",
    "        model_forest.fit(features_downsampled, target_downsampled)\n",
    "        predictions_valid_forest = model_forest.predict(features_valid)\n",
    "        f1_forest = f1_score(target_valid, predictions_valid_forest)\n",
    "        if f1_forest > best_f1:\n",
    "            best_model = model_forest\n",
    "            best_est = est\n",
    "            best_depth = depth\n",
    "\n",
    "print('Оптимальное количество оценок =', best_est)\n",
    "print('Оптимальная глубина дерева =', best_depth)"
   ]
  },
  {
   "cell_type": "code",
   "execution_count": 41,
   "id": "df77eb52",
   "metadata": {},
   "outputs": [
    {
     "name": "stdout",
     "output_type": "stream",
     "text": [
      "Recall_forest: 0.7617924528301887\n",
      "Precision_forest: 0.5135135135135135\n",
      "F1_forest: 0.6134852801519467\n",
      "ROC-AUC_forest: 0.865627394406666\n"
     ]
    }
   ],
   "source": [
    "model_forest = RandomForestClassifier(random_state=12345, \n",
    "                                      n_estimators=100, \n",
    "                                      max_depth=9)\n",
    "model_forest.fit(features_downsampled, target_downsampled)\n",
    "predictions_valid_forest = model_forest.predict(features_valid)\n",
    "\n",
    "print(\"Recall_forest:\", recall_score(target_valid, predictions_valid_forest))\n",
    "print(\"Precision_forest:\", precision_score(target_valid, predictions_valid_forest))\n",
    "print(\"F1_forest:\", f1_score(target_valid, predictions_valid_forest))\n",
    "\n",
    "probabilities_valid = model_forest.predict_proba(features_valid)\n",
    "probabilities_one_valid = probabilities_valid[:, 1]\n",
    "print(\"ROC-AUC_forest:\", roc_auc_score(target_valid, probabilities_one_valid))"
   ]
  },
  {
   "cell_type": "code",
   "execution_count": 42,
   "id": "2542aad9",
   "metadata": {},
   "outputs": [
    {
     "name": "stdout",
     "output_type": "stream",
     "text": [
      "Оптимальное количество оценок = 100\n",
      "Оптимальная глубина дерева = 9\n"
     ]
    }
   ],
   "source": [
    "best_model = None\n",
    "for est in range(10, 101, 10):\n",
    "    for depth in range(1, 10):\n",
    "        model_forest = RandomForestClassifier(random_state=12345,\n",
    "                                              n_estimators=est, \n",
    "                                              max_depth=depth)\n",
    "        model_forest.fit(features_upsampled, target_upsampled)\n",
    "        predictions_valid_forest = model_forest.predict(features_valid)\n",
    "        f1_forest = f1_score(target_valid, predictions_valid_forest)\n",
    "        if f1_forest > best_f1:\n",
    "            best_model = model_forest\n",
    "            best_est = est\n",
    "            best_depth = depth\n",
    "\n",
    "print('Оптимальное количество оценок =', best_est)\n",
    "print('Оптимальная глубина дерева =', best_depth)"
   ]
  },
  {
   "cell_type": "code",
   "execution_count": 43,
   "id": "f479f084",
   "metadata": {},
   "outputs": [
    {
     "name": "stdout",
     "output_type": "stream",
     "text": [
      "Recall_forest: 0.6910377358490566\n",
      "Precision_forest: 0.5656370656370656\n",
      "F1_forest: 0.6220806794055201\n",
      "ROC-AUC_forest: 0.8680502346518532\n"
     ]
    }
   ],
   "source": [
    "model_forest = RandomForestClassifier(random_state=12345, \n",
    "                                      n_estimators=100, \n",
    "                                      max_depth=9)\n",
    "model_forest.fit(features_upsampled, target_upsampled)\n",
    "predictions_valid_forest = model_forest.predict(features_valid)\n",
    "\n",
    "print(\"Recall_forest:\", recall_score(target_valid, predictions_valid_forest))\n",
    "print(\"Precision_forest:\", precision_score(target_valid, predictions_valid_forest))\n",
    "print(\"F1_forest:\", f1_score(target_valid, predictions_valid_forest))\n",
    "\n",
    "probabilities_valid = model_forest.predict_proba(features_valid)\n",
    "probabilities_one_valid = probabilities_valid[:, 1]\n",
    "print(\"ROC-AUC_forest:\", roc_auc_score(target_valid, probabilities_one_valid))"
   ]
  },
  {
   "cell_type": "markdown",
   "id": "bd8d1c22",
   "metadata": {},
   "source": [
    "## Логистическая регрессия после балансировки"
   ]
  },
  {
   "cell_type": "code",
   "execution_count": 44,
   "id": "a447516d",
   "metadata": {},
   "outputs": [
    {
     "name": "stdout",
     "output_type": "stream",
     "text": [
      "Recall_log: 0.6745283018867925\n",
      "Precision_log: 0.41569767441860467\n",
      "F1_log: 0.514388489208633\n",
      "ROC-AUC_log: 0.7757907528014559\n"
     ]
    }
   ],
   "source": [
    "model_log = LogisticRegression(random_state=12345,\n",
    "                               solver='liblinear')\n",
    "\n",
    "model_log.fit(features_downsampled, target_downsampled)\n",
    "predictions_valid_log = model_log.predict(features_valid)\n",
    "\n",
    "print(\"Recall_log:\", recall_score(target_valid, predictions_valid_log))\n",
    "print(\"Precision_log:\", precision_score(target_valid, predictions_valid_log))\n",
    "print(\"F1_log:\", f1_score(target_valid, predictions_valid_log))\n",
    "\n",
    "probabilities_valid = model_log.predict_proba(features_valid)\n",
    "probabilities_one_valid = probabilities_valid[:, 1]\n",
    "print(\"ROC-AUC_log:\", roc_auc_score(target_valid, probabilities_one_valid))"
   ]
  },
  {
   "cell_type": "code",
   "execution_count": 45,
   "id": "6d7cde96",
   "metadata": {},
   "outputs": [
    {
     "name": "stdout",
     "output_type": "stream",
     "text": [
      "Recall_log: 0.6863207547169812\n",
      "Precision_log: 0.3975409836065574\n",
      "F1_log: 0.5034602076124567\n",
      "ROC-AUC_log: 0.7787777751173258\n"
     ]
    }
   ],
   "source": [
    "model_log = LogisticRegression(random_state=12345,\n",
    "                               solver='liblinear')\n",
    "model_log.fit(features_upsampled, target_upsampled)\n",
    "predictions_valid_log = model_log.predict(features_valid)\n",
    "\n",
    "print(\"Recall_log:\", recall_score(target_valid, predictions_valid_log))\n",
    "print(\"Precision_log:\", precision_score(target_valid, predictions_valid_log))\n",
    "print(\"F1_log:\", f1_score(target_valid, predictions_valid_log))\n",
    "\n",
    "probabilities_valid = model_log.predict_proba(features_valid)\n",
    "probabilities_one_valid = probabilities_valid[:, 1]\n",
    "print(\"ROC-AUC_log:\", roc_auc_score(target_valid, probabilities_one_valid))"
   ]
  },
  {
   "cell_type": "markdown",
   "id": "0094d1ad",
   "metadata": {},
   "source": [
    "Лучший результат показала модель Случайный лес, на ней будем проводить тестирование"
   ]
  },
  {
   "cell_type": "markdown",
   "id": "90fc287c",
   "metadata": {},
   "source": [
    "# Тестирование модели"
   ]
  },
  {
   "cell_type": "markdown",
   "id": "94b7c5a9",
   "metadata": {},
   "source": [
    "Объединим обучающую и тестовую выборки"
   ]
  },
  {
   "cell_type": "code",
   "execution_count": 46,
   "id": "7cb1007f",
   "metadata": {},
   "outputs": [],
   "source": [
    "new_features_test = pd.concat([features_train, features_valid], axis=0, ignore_index=True)\n",
    "new_target_test = pd.concat([target_train, target_valid], axis=0, ignore_index=True)"
   ]
  },
  {
   "cell_type": "code",
   "execution_count": 47,
   "id": "27f6027b",
   "metadata": {},
   "outputs": [
    {
     "name": "stdout",
     "output_type": "stream",
     "text": [
      "Оптимальное количество оценок = 100\n",
      "Оптимальная глубина дерева = 9\n"
     ]
    }
   ],
   "source": [
    "best_model = None\n",
    "for est in range(10, 101, 10):\n",
    "    for depth in range(1, 10):\n",
    "        model_forest = RandomForestClassifier(random_state=12345,\n",
    "                                              n_estimators=est, \n",
    "                                              max_depth=depth,\n",
    "                                              class_weight='balanced')\n",
    "        model_forest.fit(features_train, target_train)\n",
    "        predictions_valid_forest = model_forest.predict(features_valid)\n",
    "        f1_forest = f1_score(target_valid, predictions_valid_forest)\n",
    "        if f1_forest > best_f1:\n",
    "            best_model = model_forest\n",
    "            best_est = est\n",
    "            best_depth = depth\n",
    "\n",
    "print('Оптимальное количество оценок =', best_est)\n",
    "print('Оптимальная глубина дерева =', best_depth)"
   ]
  },
  {
   "cell_type": "code",
   "execution_count": 48,
   "id": "ec6157d8",
   "metadata": {},
   "outputs": [
    {
     "name": "stdout",
     "output_type": "stream",
     "text": [
      "Recall_forest: 0.7601226993865031\n",
      "Precision_forest: 0.6894824707846411\n",
      "F1_tree: 0.7230814123139772\n",
      "ROC-AUC_forest: 0.9315118798817309\n"
     ]
    }
   ],
   "source": [
    "model_forest = RandomForestClassifier(random_state=12345, \n",
    "                                      n_estimators=100, \n",
    "                                      max_depth=9,\n",
    "                                      class_weight='balanced')\n",
    "model_forest.fit(features_train, target_train)\n",
    "predictions_test_forest = model_forest.predict(new_features_test)\n",
    "\n",
    "print(\"Recall_forest:\", recall_score(new_target_test, predictions_test_forest))\n",
    "print(\"Precision_forest:\", precision_score(new_target_test, predictions_test_forest))\n",
    "print(\"F1_tree:\", f1_score(new_target_test, predictions_test_forest))\n",
    "\n",
    "probabilities_test = model_forest.predict_proba(new_features_test)\n",
    "probabilities_one_test = probabilities_test[:, 1]\n",
    "print(\"ROC-AUC_forest:\", roc_auc_score(new_target_test, probabilities_one_test))"
   ]
  },
  {
   "cell_type": "code",
   "execution_count": 49,
   "id": "0dadabf7",
   "metadata": {},
   "outputs": [
    {
     "data": {
      "image/png": "[encoded data removed]",
      "text/plain": [
       "<Figure size 432x288 with 1 Axes>"
      ]
     },
     "metadata": {
      "needs_background": "light"
     },
     "output_type": "display_data"
    }
   ],
   "source": [
    "fpr, tpr, thresholds = roc_curve(new_target_test, probabilities_one_test) \n",
    "\n",
    "plt.figure()\n",
    "plt.plot(fpr, tpr, linestyle='solid')\n",
    "plt.plot([0, 1], [0, 1], linestyle='--')\n",
    "plt.xlim([0.0, 1.0])\n",
    "plt.ylim([0.0, 1.0])\n",
    "plt.xlabel('False Positive Rate')\n",
    "plt.ylabel('True Positive Rate')\n",
    "plt.title('ROC-кривая')\n",
    "plt.show()"
   ]
  },
  {
   "cell_type": "markdown",
   "id": "aec85e95",
   "metadata": {},
   "source": [
    "# Вывод"
   ]
  },
  {
   "cell_type": "markdown",
   "id": "9e818aec",
   "metadata": {},
   "source": [
    "Модель с предельно большим значением f-меры - модель Случайный лес. При глубине деревьев=9,  и количестве деревьев=100, метрика f=0,72. Заданная метрика 0,59 преодолена. "
   ]
  }
 ],
 "metadata": {
  "ExecuteTimeLog": [
   {
    "duration": 76,
    "start_time": "2023-03-31T04:09:43.289Z"
   },
   {
    "duration": 7909,
    "start_time": "2023-03-31T08:43:34.034Z"
   },
   {
    "duration": 284,
    "start_time": "2023-03-31T08:43:41.946Z"
   },
   {
    "duration": 20,
    "start_time": "2023-03-31T08:43:42.232Z"
   },
   {
    "duration": 11,
    "start_time": "2023-03-31T08:43:42.253Z"
   },
   {
    "duration": 177,
    "start_time": "2023-03-31T08:43:42.267Z"
   },
   {
    "duration": 28,
    "start_time": "2023-03-31T08:43:42.448Z"
   },
   {
    "duration": 86,
    "start_time": "2023-03-31T08:43:42.479Z"
   },
   {
    "duration": 4,
    "start_time": "2023-03-31T08:43:42.567Z"
   },
   {
    "duration": 19,
    "start_time": "2023-03-31T08:43:42.574Z"
   },
   {
    "duration": 70,
    "start_time": "2023-03-31T08:43:42.595Z"
   },
   {
    "duration": 5,
    "start_time": "2023-03-31T08:43:42.667Z"
   },
   {
    "duration": 27,
    "start_time": "2023-03-31T08:43:42.674Z"
   },
   {
    "duration": 42,
    "start_time": "2023-03-31T08:43:42.703Z"
   },
   {
    "duration": 36,
    "start_time": "2023-03-31T08:43:42.748Z"
   },
   {
    "duration": 63,
    "start_time": "2023-03-31T08:43:42.786Z"
   },
   {
    "duration": 12,
    "start_time": "2023-03-31T08:43:42.851Z"
   },
   {
    "duration": 11,
    "start_time": "2023-03-31T08:43:42.865Z"
   },
   {
    "duration": 69,
    "start_time": "2023-03-31T08:43:42.878Z"
   },
   {
    "duration": 9,
    "start_time": "2023-03-31T08:43:42.950Z"
   },
   {
    "duration": 828,
    "start_time": "2023-03-31T08:43:42.963Z"
   },
   {
    "duration": 33,
    "start_time": "2023-03-31T08:43:43.793Z"
   },
   {
    "duration": 28,
    "start_time": "2023-03-31T08:43:43.828Z"
   },
   {
    "duration": 13597,
    "start_time": "2023-03-31T08:43:43.858Z"
   },
   {
    "duration": 1209,
    "start_time": "2023-03-31T08:43:57.457Z"
   },
   {
    "duration": 152,
    "start_time": "2023-03-31T08:43:58.668Z"
   },
   {
    "duration": 13,
    "start_time": "2023-03-31T08:43:58.822Z"
   },
   {
    "duration": 69,
    "start_time": "2023-03-31T08:43:58.837Z"
   },
   {
    "duration": 86,
    "start_time": "2023-03-31T08:43:58.911Z"
   },
   {
    "duration": 43,
    "start_time": "2023-03-31T08:43:58.999Z"
   },
   {
    "duration": 11,
    "start_time": "2023-03-31T08:43:59.045Z"
   },
   {
    "duration": 181,
    "start_time": "2023-03-31T08:43:59.058Z"
   },
   {
    "duration": 238,
    "start_time": "2023-03-31T08:43:59.241Z"
   },
   {
    "duration": 16421,
    "start_time": "2023-03-31T08:43:59.481Z"
   },
   {
    "duration": 68,
    "start_time": "2023-03-31T08:44:15.905Z"
   },
   {
    "duration": 34442,
    "start_time": "2023-03-31T08:44:15.975Z"
   },
   {
    "duration": 145,
    "start_time": "2023-03-31T08:44:50.420Z"
   },
   {
    "duration": 74,
    "start_time": "2023-03-31T08:44:50.567Z"
   },
   {
    "duration": 219,
    "start_time": "2023-03-31T08:44:50.691Z"
   },
   {
    "duration": 33,
    "start_time": "2023-03-31T08:44:50.920Z"
   },
   {
    "duration": 28349,
    "start_time": "2023-03-31T08:44:50.997Z"
   },
   {
    "duration": 861,
    "start_time": "2023-03-31T08:45:19.350Z"
   },
   {
    "duration": 293,
    "start_time": "2023-03-31T08:45:20.213Z"
   },
   {
    "duration": 63,
    "start_time": "2023-03-31T08:45:20.515Z"
   },
   {
    "duration": 72,
    "start_time": "2023-03-31T08:45:20.582Z"
   },
   {
    "duration": 112,
    "start_time": "2023-03-31T08:45:21.956Z"
   },
   {
    "duration": 16,
    "start_time": "2023-03-31T08:45:23.260Z"
   },
   {
    "duration": 5,
    "start_time": "2023-03-31T08:45:24.033Z"
   },
   {
    "duration": 8,
    "start_time": "2023-03-31T08:45:24.813Z"
   },
   {
    "duration": 5,
    "start_time": "2023-03-31T08:45:25.486Z"
   },
   {
    "duration": 13,
    "start_time": "2023-03-31T08:45:28.073Z"
   },
   {
    "duration": 4,
    "start_time": "2023-03-31T08:45:29.793Z"
   },
   {
    "duration": 5,
    "start_time": "2023-03-31T08:45:31.128Z"
   },
   {
    "duration": 21,
    "start_time": "2023-03-31T08:45:32.015Z"
   },
   {
    "duration": 9,
    "start_time": "2023-03-31T08:45:32.815Z"
   },
   {
    "duration": 9,
    "start_time": "2023-03-31T08:45:34.119Z"
   },
   {
    "duration": 238,
    "start_time": "2023-03-31T08:46:34.578Z"
   },
   {
    "duration": 10,
    "start_time": "2023-03-31T08:46:50.642Z"
   },
   {
    "duration": 11,
    "start_time": "2023-03-31T08:49:09.935Z"
   },
   {
    "duration": 9,
    "start_time": "2023-03-31T08:49:19.825Z"
   },
   {
    "duration": 16,
    "start_time": "2023-03-31T08:55:23.319Z"
   },
   {
    "duration": 161,
    "start_time": "2023-03-31T08:56:04.198Z"
   },
   {
    "duration": 253,
    "start_time": "2023-03-31T08:56:05.181Z"
   },
   {
    "duration": 19,
    "start_time": "2023-03-31T08:56:05.663Z"
   },
   {
    "duration": 5,
    "start_time": "2023-03-31T08:56:06.135Z"
   },
   {
    "duration": 3,
    "start_time": "2023-03-31T08:56:06.643Z"
   },
   {
    "duration": 5,
    "start_time": "2023-03-31T08:56:07.163Z"
   },
   {
    "duration": 13,
    "start_time": "2023-03-31T08:56:08.965Z"
   },
   {
    "duration": 5,
    "start_time": "2023-03-31T08:56:10.674Z"
   },
   {
    "duration": 4,
    "start_time": "2023-03-31T08:56:11.856Z"
   },
   {
    "duration": 17,
    "start_time": "2023-03-31T08:56:12.791Z"
   },
   {
    "duration": 5,
    "start_time": "2023-03-31T08:56:13.528Z"
   },
   {
    "duration": 5,
    "start_time": "2023-03-31T08:56:14.268Z"
   },
   {
    "duration": 12,
    "start_time": "2023-03-31T08:56:14.894Z"
   },
   {
    "duration": 9,
    "start_time": "2023-03-31T08:56:15.658Z"
   },
   {
    "duration": 910,
    "start_time": "2023-03-31T08:56:16.949Z"
   },
   {
    "duration": 2091,
    "start_time": "2023-03-31T13:53:11.840Z"
   },
   {
    "duration": 244,
    "start_time": "2023-03-31T13:53:13.936Z"
   },
   {
    "duration": 19,
    "start_time": "2023-03-31T13:53:14.182Z"
   },
   {
    "duration": 35,
    "start_time": "2023-03-31T13:53:14.204Z"
   },
   {
    "duration": 17,
    "start_time": "2023-03-31T13:53:14.242Z"
   },
   {
    "duration": 41,
    "start_time": "2023-03-31T13:53:14.262Z"
   },
   {
    "duration": 56,
    "start_time": "2023-03-31T13:53:14.305Z"
   },
   {
    "duration": 23,
    "start_time": "2023-03-31T13:53:14.364Z"
   },
   {
    "duration": 30,
    "start_time": "2023-03-31T13:53:14.389Z"
   },
   {
    "duration": 43,
    "start_time": "2023-03-31T13:53:14.423Z"
   },
   {
    "duration": 33,
    "start_time": "2023-03-31T13:53:14.468Z"
   },
   {
    "duration": 53,
    "start_time": "2023-03-31T13:53:14.505Z"
   },
   {
    "duration": 41,
    "start_time": "2023-03-31T13:53:14.560Z"
   },
   {
    "duration": 147,
    "start_time": "2023-03-31T13:53:14.603Z"
   },
   {
    "duration": 1151,
    "start_time": "2023-03-31T13:53:14.752Z"
   },
   {
    "duration": 12,
    "start_time": "2023-03-31T13:53:15.906Z"
   },
   {
    "duration": 41,
    "start_time": "2023-03-31T13:53:15.921Z"
   },
   {
    "duration": 23,
    "start_time": "2023-03-31T13:53:15.964Z"
   },
   {
    "duration": 20,
    "start_time": "2023-03-31T13:53:15.989Z"
   },
   {
    "duration": 29,
    "start_time": "2023-03-31T13:53:16.011Z"
   },
   {
    "duration": 22,
    "start_time": "2023-03-31T13:53:16.042Z"
   },
   {
    "duration": 65,
    "start_time": "2023-03-31T13:53:16.066Z"
   },
   {
    "duration": 20,
    "start_time": "2023-03-31T13:53:16.140Z"
   },
   {
    "duration": 749,
    "start_time": "2023-03-31T13:53:16.162Z"
   },
   {
    "duration": 37,
    "start_time": "2023-03-31T13:53:16.913Z"
   },
   {
    "duration": 15,
    "start_time": "2023-03-31T13:53:16.952Z"
   },
   {
    "duration": 12796,
    "start_time": "2023-03-31T13:53:16.969Z"
   },
   {
    "duration": 1152,
    "start_time": "2023-03-31T13:53:29.769Z"
   },
   {
    "duration": 149,
    "start_time": "2023-03-31T13:53:30.927Z"
   },
   {
    "duration": 15,
    "start_time": "2023-03-31T13:53:31.079Z"
   },
   {
    "duration": 243,
    "start_time": "2023-03-31T13:53:31.096Z"
   },
   {
    "duration": 247,
    "start_time": "2023-03-31T13:53:31.343Z"
   },
   {
    "duration": 70,
    "start_time": "2023-03-31T13:53:31.592Z"
   },
   {
    "duration": 125,
    "start_time": "2023-03-31T13:53:31.664Z"
   },
   {
    "duration": 265,
    "start_time": "2023-03-31T13:53:31.791Z"
   },
   {
    "duration": 243,
    "start_time": "2023-03-31T13:53:32.059Z"
   },
   {
    "duration": 15612,
    "start_time": "2023-03-31T13:53:32.304Z"
   },
   {
    "duration": 68,
    "start_time": "2023-03-31T13:53:47.920Z"
   },
   {
    "duration": 32663,
    "start_time": "2023-03-31T13:53:47.990Z"
   },
   {
    "duration": 152,
    "start_time": "2023-03-31T13:54:20.655Z"
   },
   {
    "duration": 222,
    "start_time": "2023-03-31T13:54:20.809Z"
   },
   {
    "duration": 215,
    "start_time": "2023-03-31T13:54:21.039Z"
   },
   {
    "duration": 62,
    "start_time": "2023-03-31T13:54:21.261Z"
   },
   {
    "duration": 25366,
    "start_time": "2023-03-31T13:54:21.332Z"
   },
   {
    "duration": 819,
    "start_time": "2023-03-31T13:54:46.700Z"
   },
   {
    "duration": 203,
    "start_time": "2023-03-31T13:54:47.522Z"
   },
   {
    "duration": 5,
    "start_time": "2023-03-31T13:57:00.939Z"
   },
   {
    "duration": 67,
    "start_time": "2023-03-31T14:03:48.020Z"
   },
   {
    "duration": 15,
    "start_time": "2023-03-31T14:03:55.765Z"
   },
   {
    "duration": 146,
    "start_time": "2023-03-31T14:04:44.066Z"
   },
   {
    "duration": 14,
    "start_time": "2023-03-31T14:05:35.550Z"
   },
   {
    "duration": 6,
    "start_time": "2023-03-31T14:05:56.925Z"
   },
   {
    "duration": 6,
    "start_time": "2023-03-31T14:05:57.598Z"
   },
   {
    "duration": 5,
    "start_time": "2023-03-31T14:05:58.145Z"
   },
   {
    "duration": 47,
    "start_time": "2023-03-31T14:06:00.035Z"
   },
   {
    "duration": 44,
    "start_time": "2023-03-31T14:06:27.716Z"
   },
   {
    "duration": 9,
    "start_time": "2023-03-31T14:07:10.032Z"
   },
   {
    "duration": 739,
    "start_time": "2023-03-31T14:07:12.164Z"
   },
   {
    "duration": 26,
    "start_time": "2023-03-31T14:07:12.905Z"
   },
   {
    "duration": 14,
    "start_time": "2023-03-31T14:07:13.590Z"
   },
   {
    "duration": 11251,
    "start_time": "2023-03-31T14:07:15.025Z"
   },
   {
    "duration": 1150,
    "start_time": "2023-03-31T14:07:26.279Z"
   },
   {
    "duration": 10467,
    "start_time": "2023-03-31T14:08:27.938Z"
   },
   {
    "duration": 854,
    "start_time": "2023-03-31T14:09:06.407Z"
   },
   {
    "duration": 1313,
    "start_time": "2023-03-31T14:10:01.040Z"
   },
   {
    "duration": 943,
    "start_time": "2023-03-31T14:26:30.479Z"
   },
   {
    "duration": 19,
    "start_time": "2023-03-31T14:27:23.817Z"
   },
   {
    "duration": 69,
    "start_time": "2023-03-31T14:28:39.689Z"
   },
   {
    "duration": 33,
    "start_time": "2023-03-31T14:29:34.941Z"
   },
   {
    "duration": 44,
    "start_time": "2023-03-31T14:30:10.259Z"
   },
   {
    "duration": 28,
    "start_time": "2023-03-31T14:31:12.665Z"
   },
   {
    "duration": 1042,
    "start_time": "2023-03-31T14:31:50.412Z"
   },
   {
    "duration": 1041,
    "start_time": "2023-03-31T14:32:27.609Z"
   },
   {
    "duration": 2215,
    "start_time": "2023-03-31T14:33:04.267Z"
   },
   {
    "duration": 237,
    "start_time": "2023-03-31T14:33:06.489Z"
   },
   {
    "duration": 49,
    "start_time": "2023-03-31T14:33:06.729Z"
   },
   {
    "duration": 26,
    "start_time": "2023-03-31T14:33:06.787Z"
   },
   {
    "duration": 54,
    "start_time": "2023-03-31T14:33:06.817Z"
   },
   {
    "duration": 14,
    "start_time": "2023-03-31T14:33:06.876Z"
   },
   {
    "duration": 34,
    "start_time": "2023-03-31T14:33:06.893Z"
   },
   {
    "duration": 35,
    "start_time": "2023-03-31T14:33:06.932Z"
   },
   {
    "duration": 35,
    "start_time": "2023-03-31T14:33:06.974Z"
   },
   {
    "duration": 185,
    "start_time": "2023-03-31T14:33:07.011Z"
   },
   {
    "duration": 36,
    "start_time": "2023-03-31T14:33:07.200Z"
   },
   {
    "duration": 55,
    "start_time": "2023-03-31T14:33:07.239Z"
   },
   {
    "duration": 16,
    "start_time": "2023-03-31T14:33:07.297Z"
   },
   {
    "duration": 75,
    "start_time": "2023-03-31T14:33:07.318Z"
   },
   {
    "duration": 1188,
    "start_time": "2023-03-31T14:33:07.396Z"
   },
   {
    "duration": 19,
    "start_time": "2023-03-31T14:33:08.586Z"
   },
   {
    "duration": 23,
    "start_time": "2023-03-31T14:33:08.607Z"
   },
   {
    "duration": 32,
    "start_time": "2023-03-31T14:33:08.632Z"
   },
   {
    "duration": 29,
    "start_time": "2023-03-31T14:33:08.670Z"
   },
   {
    "duration": 11,
    "start_time": "2023-03-31T14:33:08.701Z"
   },
   {
    "duration": 58,
    "start_time": "2023-03-31T14:33:08.713Z"
   },
   {
    "duration": 53,
    "start_time": "2023-03-31T14:33:08.773Z"
   },
   {
    "duration": 45,
    "start_time": "2023-03-31T14:33:08.839Z"
   },
   {
    "duration": 851,
    "start_time": "2023-03-31T14:33:08.892Z"
   },
   {
    "duration": 31,
    "start_time": "2023-03-31T14:33:09.745Z"
   },
   {
    "duration": 27,
    "start_time": "2023-03-31T14:33:09.778Z"
   },
   {
    "duration": 75,
    "start_time": "2023-03-31T14:33:09.807Z"
   },
   {
    "duration": 13122,
    "start_time": "2023-03-31T14:33:09.884Z"
   },
   {
    "duration": 1035,
    "start_time": "2023-03-31T14:33:23.008Z"
   },
   {
    "duration": 178,
    "start_time": "2023-03-31T14:33:24.053Z"
   },
   {
    "duration": 18,
    "start_time": "2023-03-31T14:33:24.238Z"
   },
   {
    "duration": 1091,
    "start_time": "2023-03-31T14:33:24.263Z"
   },
   {
    "duration": 91,
    "start_time": "2023-03-31T14:33:25.360Z"
   },
   {
    "duration": 96,
    "start_time": "2023-03-31T14:33:25.467Z"
   },
   {
    "duration": 167,
    "start_time": "2023-03-31T14:33:25.572Z"
   },
   {
    "duration": 31,
    "start_time": "2023-03-31T14:33:25.746Z"
   },
   {
    "duration": 40,
    "start_time": "2023-03-31T14:33:25.781Z"
   },
   {
    "duration": 179,
    "start_time": "2023-03-31T14:33:25.823Z"
   },
   {
    "duration": 259,
    "start_time": "2023-03-31T14:33:26.004Z"
   },
   {
    "duration": 17450,
    "start_time": "2023-03-31T14:33:26.269Z"
   },
   {
    "duration": 118,
    "start_time": "2023-03-31T14:33:43.725Z"
   },
   {
    "duration": 35620,
    "start_time": "2023-03-31T14:33:43.856Z"
   },
   {
    "duration": 171,
    "start_time": "2023-03-31T14:34:19.484Z"
   },
   {
    "duration": 83,
    "start_time": "2023-03-31T14:34:19.659Z"
   },
   {
    "duration": 296,
    "start_time": "2023-03-31T14:34:19.753Z"
   },
   {
    "duration": 11,
    "start_time": "2023-03-31T14:34:20.057Z"
   },
   {
    "duration": 26863,
    "start_time": "2023-03-31T14:34:20.119Z"
   },
   {
    "duration": 888,
    "start_time": "2023-03-31T14:34:46.986Z"
   },
   {
    "duration": 151,
    "start_time": "2023-03-31T14:34:47.880Z"
   },
   {
    "duration": 423,
    "start_time": "2023-03-31T14:41:24.652Z"
   },
   {
    "duration": 29739,
    "start_time": "2023-03-31T14:41:33.136Z"
   },
   {
    "duration": 932,
    "start_time": "2023-03-31T14:42:03.025Z"
   },
   {
    "duration": 207,
    "start_time": "2023-03-31T14:42:19.455Z"
   },
   {
    "duration": 76,
    "start_time": "2023-03-31T14:42:21.751Z"
   },
   {
    "duration": 181,
    "start_time": "2023-03-31T14:51:35.967Z"
   },
   {
    "duration": 6,
    "start_time": "2023-03-31T14:52:39.968Z"
   },
   {
    "duration": 24588,
    "start_time": "2023-03-31T14:52:40.770Z"
   },
   {
    "duration": 7,
    "start_time": "2023-03-31T14:54:04.268Z"
   },
   {
    "duration": 23798,
    "start_time": "2023-03-31T14:54:05.258Z"
   },
   {
    "duration": 816,
    "start_time": "2023-03-31T14:54:29.058Z"
   },
   {
    "duration": 121,
    "start_time": "2023-03-31T14:56:56.870Z"
   },
   {
    "duration": 22,
    "start_time": "2023-03-31T14:56:57.571Z"
   },
   {
    "duration": 5,
    "start_time": "2023-03-31T14:56:58.194Z"
   },
   {
    "duration": 3,
    "start_time": "2023-03-31T14:56:59.957Z"
   },
   {
    "duration": 17,
    "start_time": "2023-03-31T14:56:59.965Z"
   },
   {
    "duration": 16,
    "start_time": "2023-03-31T14:57:04.007Z"
   },
   {
    "duration": 7,
    "start_time": "2023-03-31T14:57:50.495Z"
   },
   {
    "duration": 37,
    "start_time": "2023-03-31T14:57:51.009Z"
   },
   {
    "duration": 5,
    "start_time": "2023-03-31T14:57:51.575Z"
   },
   {
    "duration": 7,
    "start_time": "2023-03-31T14:57:52.288Z"
   },
   {
    "duration": 11,
    "start_time": "2023-03-31T14:57:52.705Z"
   },
   {
    "duration": 22,
    "start_time": "2023-03-31T14:57:53.314Z"
   },
   {
    "duration": 1069,
    "start_time": "2023-03-31T14:57:54.406Z"
   },
   {
    "duration": 16,
    "start_time": "2023-03-31T14:58:12.149Z"
   },
   {
    "duration": 11,
    "start_time": "2023-03-31T14:58:14.343Z"
   },
   {
    "duration": 16,
    "start_time": "2023-03-31T14:58:15.787Z"
   },
   {
    "duration": 4,
    "start_time": "2023-03-31T14:59:19.889Z"
   },
   {
    "duration": 14,
    "start_time": "2023-03-31T14:59:20.424Z"
   },
   {
    "duration": 4,
    "start_time": "2023-03-31T14:59:20.972Z"
   },
   {
    "duration": 53,
    "start_time": "2023-03-31T14:59:22.747Z"
   },
   {
    "duration": 7,
    "start_time": "2023-03-31T15:00:20.771Z"
   },
   {
    "duration": 349,
    "start_time": "2023-03-31T15:00:23.271Z"
   },
   {
    "duration": 19,
    "start_time": "2023-03-31T15:00:25.358Z"
   },
   {
    "duration": 122,
    "start_time": "2023-03-31T15:00:55.988Z"
   },
   {
    "duration": 139,
    "start_time": "2023-03-31T15:01:37.275Z"
   },
   {
    "duration": 1778,
    "start_time": "2023-03-31T15:14:55.067Z"
   },
   {
    "duration": 119,
    "start_time": "2023-03-31T15:14:56.852Z"
   },
   {
    "duration": 20,
    "start_time": "2023-03-31T15:14:56.973Z"
   },
   {
    "duration": 6,
    "start_time": "2023-03-31T15:14:56.994Z"
   },
   {
    "duration": 4,
    "start_time": "2023-03-31T15:14:57.002Z"
   },
   {
    "duration": 41,
    "start_time": "2023-03-31T15:14:57.008Z"
   },
   {
    "duration": 59,
    "start_time": "2023-03-31T15:14:57.051Z"
   },
   {
    "duration": 30,
    "start_time": "2023-03-31T15:14:57.113Z"
   },
   {
    "duration": 50,
    "start_time": "2023-03-31T15:14:57.146Z"
   },
   {
    "duration": 27,
    "start_time": "2023-03-31T15:14:57.198Z"
   },
   {
    "duration": 65,
    "start_time": "2023-03-31T15:14:57.227Z"
   },
   {
    "duration": 29,
    "start_time": "2023-03-31T15:14:57.294Z"
   },
   {
    "duration": 74,
    "start_time": "2023-03-31T15:14:57.328Z"
   },
   {
    "duration": 53,
    "start_time": "2023-03-31T15:14:57.405Z"
   },
   {
    "duration": 1088,
    "start_time": "2023-03-31T15:14:57.472Z"
   },
   {
    "duration": 27,
    "start_time": "2023-03-31T15:14:58.569Z"
   },
   {
    "duration": 7,
    "start_time": "2023-03-31T15:14:58.598Z"
   },
   {
    "duration": 57,
    "start_time": "2023-03-31T15:14:58.609Z"
   },
   {
    "duration": 31,
    "start_time": "2023-03-31T15:14:58.682Z"
   },
   {
    "duration": 58,
    "start_time": "2023-03-31T15:14:58.715Z"
   },
   {
    "duration": 14,
    "start_time": "2023-03-31T15:14:58.779Z"
   },
   {
    "duration": 38,
    "start_time": "2023-03-31T15:14:58.795Z"
   },
   {
    "duration": 18,
    "start_time": "2023-03-31T15:14:58.837Z"
   },
   {
    "duration": 410,
    "start_time": "2023-03-31T15:14:58.866Z"
   },
   {
    "duration": 26,
    "start_time": "2023-03-31T15:14:59.277Z"
   },
   {
    "duration": 10,
    "start_time": "2023-03-31T15:14:59.305Z"
   },
   {
    "duration": 76,
    "start_time": "2023-03-31T15:14:59.321Z"
   },
   {
    "duration": 168,
    "start_time": "2023-03-31T15:14:59.399Z"
   },
   {
    "duration": 13,
    "start_time": "2023-03-31T15:14:59.569Z"
   },
   {
    "duration": 0,
    "start_time": "2023-03-31T15:14:59.584Z"
   },
   {
    "duration": 0,
    "start_time": "2023-03-31T15:14:59.586Z"
   },
   {
    "duration": 0,
    "start_time": "2023-03-31T15:14:59.587Z"
   },
   {
    "duration": 0,
    "start_time": "2023-03-31T15:14:59.588Z"
   },
   {
    "duration": 0,
    "start_time": "2023-03-31T15:14:59.589Z"
   },
   {
    "duration": 0,
    "start_time": "2023-03-31T15:14:59.590Z"
   },
   {
    "duration": 0,
    "start_time": "2023-03-31T15:14:59.591Z"
   },
   {
    "duration": 0,
    "start_time": "2023-03-31T15:14:59.592Z"
   },
   {
    "duration": 0,
    "start_time": "2023-03-31T15:14:59.593Z"
   },
   {
    "duration": 0,
    "start_time": "2023-03-31T15:14:59.594Z"
   },
   {
    "duration": 0,
    "start_time": "2023-03-31T15:14:59.595Z"
   },
   {
    "duration": 0,
    "start_time": "2023-03-31T15:14:59.596Z"
   },
   {
    "duration": 0,
    "start_time": "2023-03-31T15:14:59.597Z"
   },
   {
    "duration": 0,
    "start_time": "2023-03-31T15:14:59.598Z"
   },
   {
    "duration": 0,
    "start_time": "2023-03-31T15:14:59.599Z"
   },
   {
    "duration": 0,
    "start_time": "2023-03-31T15:14:59.601Z"
   },
   {
    "duration": 0,
    "start_time": "2023-03-31T15:14:59.602Z"
   },
   {
    "duration": 0,
    "start_time": "2023-03-31T15:14:59.603Z"
   },
   {
    "duration": 0,
    "start_time": "2023-03-31T15:14:59.604Z"
   },
   {
    "duration": 0,
    "start_time": "2023-03-31T15:14:59.605Z"
   },
   {
    "duration": 490,
    "start_time": "2023-03-31T15:15:45.884Z"
   },
   {
    "duration": 151,
    "start_time": "2023-03-31T15:16:13.059Z"
   },
   {
    "duration": 12717,
    "start_time": "2023-03-31T15:16:28.075Z"
   },
   {
    "duration": 1309,
    "start_time": "2023-03-31T15:17:21.561Z"
   },
   {
    "duration": 131,
    "start_time": "2023-03-31T15:17:39.769Z"
   },
   {
    "duration": 11,
    "start_time": "2023-03-31T15:17:42.303Z"
   },
   {
    "duration": 889,
    "start_time": "2023-03-31T15:17:45.699Z"
   },
   {
    "duration": 138,
    "start_time": "2023-03-31T15:17:50.910Z"
   },
   {
    "duration": 22,
    "start_time": "2023-03-31T15:17:54.745Z"
   },
   {
    "duration": 35,
    "start_time": "2023-03-31T15:17:55.252Z"
   },
   {
    "duration": 23,
    "start_time": "2023-03-31T15:18:37.451Z"
   },
   {
    "duration": 1883,
    "start_time": "2023-03-31T15:19:11.323Z"
   },
   {
    "duration": 157,
    "start_time": "2023-03-31T15:19:13.207Z"
   },
   {
    "duration": 27,
    "start_time": "2023-03-31T15:19:13.371Z"
   },
   {
    "duration": 23,
    "start_time": "2023-03-31T15:19:13.401Z"
   },
   {
    "duration": 62,
    "start_time": "2023-03-31T15:19:13.427Z"
   },
   {
    "duration": 97,
    "start_time": "2023-03-31T15:19:13.491Z"
   },
   {
    "duration": 46,
    "start_time": "2023-03-31T15:19:13.590Z"
   },
   {
    "duration": 45,
    "start_time": "2023-03-31T15:19:13.644Z"
   },
   {
    "duration": 21,
    "start_time": "2023-03-31T15:19:13.691Z"
   },
   {
    "duration": 90,
    "start_time": "2023-03-31T15:19:13.717Z"
   },
   {
    "duration": 99,
    "start_time": "2023-03-31T15:19:13.809Z"
   },
   {
    "duration": 58,
    "start_time": "2023-03-31T15:19:13.910Z"
   },
   {
    "duration": 42,
    "start_time": "2023-03-31T15:19:13.970Z"
   },
   {
    "duration": 63,
    "start_time": "2023-03-31T15:19:14.014Z"
   },
   {
    "duration": 1165,
    "start_time": "2023-03-31T15:19:14.079Z"
   },
   {
    "duration": 18,
    "start_time": "2023-03-31T15:19:15.250Z"
   },
   {
    "duration": 31,
    "start_time": "2023-03-31T15:19:15.270Z"
   },
   {
    "duration": 27,
    "start_time": "2023-03-31T15:19:15.303Z"
   },
   {
    "duration": 11,
    "start_time": "2023-03-31T15:19:15.331Z"
   },
   {
    "duration": 47,
    "start_time": "2023-03-31T15:19:15.346Z"
   },
   {
    "duration": 12,
    "start_time": "2023-03-31T15:19:15.395Z"
   },
   {
    "duration": 139,
    "start_time": "2023-03-31T15:19:15.409Z"
   },
   {
    "duration": 54,
    "start_time": "2023-03-31T15:19:15.549Z"
   },
   {
    "duration": 323,
    "start_time": "2023-03-31T15:19:15.605Z"
   },
   {
    "duration": 36,
    "start_time": "2023-03-31T15:19:15.934Z"
   },
   {
    "duration": 61,
    "start_time": "2023-03-31T15:19:15.972Z"
   },
   {
    "duration": 87,
    "start_time": "2023-03-31T15:19:16.040Z"
   },
   {
    "duration": 13906,
    "start_time": "2023-03-31T15:19:16.134Z"
   },
   {
    "duration": 1203,
    "start_time": "2023-03-31T15:19:30.044Z"
   },
   {
    "duration": 157,
    "start_time": "2023-03-31T15:19:31.249Z"
   },
   {
    "duration": 16,
    "start_time": "2023-03-31T15:19:31.408Z"
   },
   {
    "duration": 1074,
    "start_time": "2023-03-31T15:19:31.426Z"
   },
   {
    "duration": 81,
    "start_time": "2023-03-31T15:19:32.501Z"
   },
   {
    "duration": 120,
    "start_time": "2023-03-31T15:19:32.639Z"
   },
   {
    "duration": 221,
    "start_time": "2023-03-31T15:19:32.761Z"
   },
   {
    "duration": 65,
    "start_time": "2023-03-31T15:19:32.984Z"
   },
   {
    "duration": 155,
    "start_time": "2023-03-31T15:19:33.052Z"
   },
   {
    "duration": 250,
    "start_time": "2023-03-31T15:19:33.209Z"
   },
   {
    "duration": 242,
    "start_time": "2023-03-31T15:19:33.463Z"
   },
   {
    "duration": 17190,
    "start_time": "2023-03-31T15:19:33.707Z"
   },
   {
    "duration": 489,
    "start_time": "2023-03-31T15:19:50.900Z"
   },
   {
    "duration": 33358,
    "start_time": "2023-03-31T15:19:51.391Z"
   },
   {
    "duration": 1102,
    "start_time": "2023-03-31T15:20:24.752Z"
   },
   {
    "duration": 101,
    "start_time": "2023-03-31T15:20:25.861Z"
   },
   {
    "duration": 295,
    "start_time": "2023-03-31T15:20:26.023Z"
   },
   {
    "duration": 20,
    "start_time": "2023-03-31T15:20:26.332Z"
   },
   {
    "duration": 25769,
    "start_time": "2023-03-31T15:20:26.362Z"
   },
   {
    "duration": 979,
    "start_time": "2023-03-31T15:20:52.133Z"
   },
   {
    "duration": 211,
    "start_time": "2023-03-31T15:20:53.120Z"
   },
   {
    "duration": 1934,
    "start_time": "2023-03-31T15:23:10.757Z"
   },
   {
    "duration": 138,
    "start_time": "2023-03-31T15:23:12.695Z"
   },
   {
    "duration": 53,
    "start_time": "2023-03-31T15:23:12.835Z"
   },
   {
    "duration": 11,
    "start_time": "2023-03-31T15:23:12.891Z"
   },
   {
    "duration": 99,
    "start_time": "2023-03-31T15:23:12.905Z"
   },
   {
    "duration": 81,
    "start_time": "2023-03-31T15:23:13.007Z"
   },
   {
    "duration": 54,
    "start_time": "2023-03-31T15:23:13.090Z"
   },
   {
    "duration": 120,
    "start_time": "2023-03-31T15:23:13.154Z"
   },
   {
    "duration": 76,
    "start_time": "2023-03-31T15:23:13.278Z"
   },
   {
    "duration": 42,
    "start_time": "2023-03-31T15:23:13.357Z"
   },
   {
    "duration": 8,
    "start_time": "2023-03-31T15:23:13.401Z"
   },
   {
    "duration": 68,
    "start_time": "2023-03-31T15:23:13.411Z"
   },
   {
    "duration": 11,
    "start_time": "2023-03-31T15:23:13.481Z"
   },
   {
    "duration": 16,
    "start_time": "2023-03-31T15:23:13.496Z"
   },
   {
    "duration": 1033,
    "start_time": "2023-03-31T15:23:13.514Z"
   },
   {
    "duration": 20,
    "start_time": "2023-03-31T15:23:14.550Z"
   },
   {
    "duration": 17,
    "start_time": "2023-03-31T15:23:14.572Z"
   },
   {
    "duration": 17,
    "start_time": "2023-03-31T15:23:14.592Z"
   },
   {
    "duration": 5,
    "start_time": "2023-03-31T15:23:14.611Z"
   },
   {
    "duration": 60,
    "start_time": "2023-03-31T15:23:14.619Z"
   },
   {
    "duration": 18,
    "start_time": "2023-03-31T15:23:14.681Z"
   },
   {
    "duration": 69,
    "start_time": "2023-03-31T15:23:14.701Z"
   },
   {
    "duration": 14,
    "start_time": "2023-03-31T15:23:14.775Z"
   },
   {
    "duration": 286,
    "start_time": "2023-03-31T15:23:14.790Z"
   },
   {
    "duration": 26,
    "start_time": "2023-03-31T15:23:15.079Z"
   },
   {
    "duration": 22,
    "start_time": "2023-03-31T15:23:15.107Z"
   },
   {
    "duration": 70,
    "start_time": "2023-03-31T15:23:15.133Z"
   },
   {
    "duration": 12927,
    "start_time": "2023-03-31T15:23:15.205Z"
   },
   {
    "duration": 1263,
    "start_time": "2023-03-31T15:23:28.134Z"
   },
   {
    "duration": 161,
    "start_time": "2023-03-31T15:23:29.399Z"
   },
   {
    "duration": 15,
    "start_time": "2023-03-31T15:23:29.562Z"
   },
   {
    "duration": 963,
    "start_time": "2023-03-31T15:23:29.579Z"
   },
   {
    "duration": 87,
    "start_time": "2023-03-31T15:23:30.543Z"
   },
   {
    "duration": 34,
    "start_time": "2023-03-31T15:23:30.720Z"
   },
   {
    "duration": 165,
    "start_time": "2023-03-31T15:23:30.757Z"
   },
   {
    "duration": 162,
    "start_time": "2023-03-31T15:23:30.925Z"
   },
   {
    "duration": 121,
    "start_time": "2023-03-31T15:23:31.090Z"
   },
   {
    "duration": 172,
    "start_time": "2023-03-31T15:23:31.214Z"
   },
   {
    "duration": 309,
    "start_time": "2023-03-31T15:23:31.387Z"
   },
   {
    "duration": 15972,
    "start_time": "2023-03-31T15:23:31.698Z"
   },
   {
    "duration": 462,
    "start_time": "2023-03-31T15:23:47.690Z"
   },
   {
    "duration": 36901,
    "start_time": "2023-03-31T15:23:48.154Z"
   },
   {
    "duration": 1080,
    "start_time": "2023-03-31T15:24:25.061Z"
   },
   {
    "duration": 203,
    "start_time": "2023-03-31T15:24:26.146Z"
   },
   {
    "duration": 156,
    "start_time": "2023-03-31T15:24:26.380Z"
   },
   {
    "duration": 30,
    "start_time": "2023-03-31T15:24:26.548Z"
   },
   {
    "duration": 27515,
    "start_time": "2023-03-31T15:24:26.590Z"
   },
   {
    "duration": 928,
    "start_time": "2023-03-31T15:24:54.107Z"
   },
   {
    "duration": 156,
    "start_time": "2023-03-31T15:24:55.039Z"
   }
  ],
  "kernelspec": {
   "display_name": "Python 3 (ipykernel)",
   "language": "python",
   "name": "python3"
  },
  "language_info": {
   "codemirror_mode": {
    "name": "ipython",
    "version": 3
   },
   "file_extension": ".py",
   "mimetype": "text/x-python",
   "name": "python",
   "nbconvert_exporter": "python",
   "pygments_lexer": "ipython3",
   "version": "3.9.5"
  },
  "toc": {
   "base_numbering": 1,
   "nav_menu": {},
   "number_sections": true,
   "sideBar": true,
   "skip_h1_title": true,
   "title_cell": "Table of Contents",
   "title_sidebar": "Contents",
   "toc_cell": false,
   "toc_position": {},
   "toc_section_display": true,
   "toc_window_display": false
  }
 },
 "nbformat": 4,
 "nbformat_minor": 5
}
