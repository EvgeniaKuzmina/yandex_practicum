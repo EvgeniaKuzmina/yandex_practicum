{
 "cells": [
  {
   "cell_type": "markdown",
   "id": "69ee2632",
   "metadata": {},
   "source": [
    "Оператор мобильной связи «Мегалайн» выяснил: многие клиенты пользуются архивными тарифами. Они хотят построить систему, способную проанализировать поведение клиентов и предложить пользователям новый тариф: «Смарт» или «Ультра».\n",
    "В вашем распоряжении данные о поведении клиентов, которые уже перешли на эти тарифы "
   ]
  },
  {
   "cell_type": "code",
   "execution_count": 1,
   "id": "ad4da68e",
   "metadata": {},
   "outputs": [],
   "source": [
    "import pandas as pd\n",
    "import numpy as np\n",
    "from sklearn.model_selection import train_test_split\n",
    "from sklearn.linear_model import LogisticRegression\n",
    "from sklearn.ensemble import RandomForestClassifier\n",
    "from sklearn.tree import DecisionTreeClassifier\n",
    "from sklearn.dummy import DummyClassifier\n",
    "from sklearn.metrics import accuracy_score\n",
    "from sklearn.linear_model import LinearRegression\n",
    "from tqdm import tqdm"
   ]
  },
  {
   "cell_type": "markdown",
   "id": "95be95aa",
   "metadata": {},
   "source": [
    "## 1. Откроем файл с данными и изучим его "
   ]
  },
  {
   "cell_type": "code",
   "execution_count": 2,
   "id": "f956ef11",
   "metadata": {},
   "outputs": [],
   "source": [
    "try:\n",
    "    df = pd.read_csv('C://Users/kuzmi/Downloads/users_behavior.csv')\n",
    "except:\n",
    "    df = pd.read_csv('/datasets/users_behavior.csv')\n",
    "   "
   ]
  },
  {
   "cell_type": "code",
   "execution_count": 3,
   "id": "c6814441",
   "metadata": {},
   "outputs": [
    {
     "data": {
      "text/html": [
       "<div>\n",
       "<style scoped>\n",
       "    .dataframe tbody tr th:only-of-type {\n",
       "        vertical-align: middle;\n",
       "    }\n",
       "\n",
       "    .dataframe tbody tr th {\n",
       "        vertical-align: top;\n",
       "    }\n",
       "\n",
       "    .dataframe thead th {\n",
       "        text-align: right;\n",
       "    }\n",
       "</style>\n",
       "<table border=\"1\" class=\"dataframe\">\n",
       "  <thead>\n",
       "    <tr style=\"text-align: right;\">\n",
       "      <th></th>\n",
       "      <th>calls</th>\n",
       "      <th>minutes</th>\n",
       "      <th>messages</th>\n",
       "      <th>mb_used</th>\n",
       "      <th>is_ultra</th>\n",
       "    </tr>\n",
       "  </thead>\n",
       "  <tbody>\n",
       "    <tr>\n",
       "      <th>0</th>\n",
       "      <td>40.0</td>\n",
       "      <td>311.90</td>\n",
       "      <td>83.0</td>\n",
       "      <td>19915.42</td>\n",
       "      <td>0</td>\n",
       "    </tr>\n",
       "    <tr>\n",
       "      <th>1</th>\n",
       "      <td>85.0</td>\n",
       "      <td>516.75</td>\n",
       "      <td>56.0</td>\n",
       "      <td>22696.96</td>\n",
       "      <td>0</td>\n",
       "    </tr>\n",
       "    <tr>\n",
       "      <th>2</th>\n",
       "      <td>77.0</td>\n",
       "      <td>467.66</td>\n",
       "      <td>86.0</td>\n",
       "      <td>21060.45</td>\n",
       "      <td>0</td>\n",
       "    </tr>\n",
       "    <tr>\n",
       "      <th>3</th>\n",
       "      <td>106.0</td>\n",
       "      <td>745.53</td>\n",
       "      <td>81.0</td>\n",
       "      <td>8437.39</td>\n",
       "      <td>1</td>\n",
       "    </tr>\n",
       "    <tr>\n",
       "      <th>4</th>\n",
       "      <td>66.0</td>\n",
       "      <td>418.74</td>\n",
       "      <td>1.0</td>\n",
       "      <td>14502.75</td>\n",
       "      <td>0</td>\n",
       "    </tr>\n",
       "  </tbody>\n",
       "</table>\n",
       "</div>"
      ],
      "text/plain": [
       "   calls  minutes  messages   mb_used  is_ultra\n",
       "0   40.0   311.90      83.0  19915.42         0\n",
       "1   85.0   516.75      56.0  22696.96         0\n",
       "2   77.0   467.66      86.0  21060.45         0\n",
       "3  106.0   745.53      81.0   8437.39         1\n",
       "4   66.0   418.74       1.0  14502.75         0"
      ]
     },
     "execution_count": 3,
     "metadata": {},
     "output_type": "execute_result"
    }
   ],
   "source": [
    "df.head(5)"
   ]
  },
  {
   "cell_type": "code",
   "execution_count": 4,
   "id": "11e9874b",
   "metadata": {},
   "outputs": [
    {
     "name": "stdout",
     "output_type": "stream",
     "text": [
      "<class 'pandas.core.frame.DataFrame'>\n",
      "RangeIndex: 3214 entries, 0 to 3213\n",
      "Data columns (total 5 columns):\n",
      " #   Column    Non-Null Count  Dtype  \n",
      "---  ------    --------------  -----  \n",
      " 0   calls     3214 non-null   float64\n",
      " 1   minutes   3214 non-null   float64\n",
      " 2   messages  3214 non-null   float64\n",
      " 3   mb_used   3214 non-null   float64\n",
      " 4   is_ultra  3214 non-null   int64  \n",
      "dtypes: float64(4), int64(1)\n",
      "memory usage: 125.7 KB\n"
     ]
    }
   ],
   "source": [
    "df.info()"
   ]
  },
  {
   "cell_type": "markdown",
   "id": "07b16f5a",
   "metadata": {},
   "source": [
    "## 2. Разделим исходные данные на тестовую, валидационную и обучающую выборки"
   ]
  },
  {
   "cell_type": "code",
   "execution_count": 5,
   "id": "2978cafd",
   "metadata": {},
   "outputs": [],
   "source": [
    "features = df.drop(['is_ultra'], axis=1)\n",
    "target = df['is_ultra']"
   ]
  },
  {
   "cell_type": "markdown",
   "id": "d4530e0b",
   "metadata": {},
   "source": [
    "Спрятанной тестовой выборки нет, поэтому разделяем данные в соотношении 3:1:1 (0.6, 0.2, 0.2)"
   ]
  },
  {
   "cell_type": "markdown",
   "id": "fa345cd1",
   "metadata": {},
   "source": [
    "### Обучающая выборка"
   ]
  },
  {
   "cell_type": "code",
   "execution_count": 6,
   "id": "9fde7680",
   "metadata": {},
   "outputs": [],
   "source": [
    "features_train, features_test, target_train, target_test = train_test_split(features, target, test_size=0.4, random_state=12345)"
   ]
  },
  {
   "cell_type": "code",
   "execution_count": 7,
   "id": "c8b29270",
   "metadata": {},
   "outputs": [
    {
     "data": {
      "text/plain": [
       "(1928, 4)"
      ]
     },
     "execution_count": 7,
     "metadata": {},
     "output_type": "execute_result"
    }
   ],
   "source": [
    "features_train.shape"
   ]
  },
  {
   "cell_type": "code",
   "execution_count": 8,
   "id": "4492e01b",
   "metadata": {},
   "outputs": [
    {
     "data": {
      "text/plain": [
       "(1928,)"
      ]
     },
     "execution_count": 8,
     "metadata": {},
     "output_type": "execute_result"
    }
   ],
   "source": [
    "target_train.shape"
   ]
  },
  {
   "cell_type": "markdown",
   "id": "5b3aa3ab",
   "metadata": {},
   "source": [
    "### Тестовая выборка"
   ]
  },
  {
   "cell_type": "code",
   "execution_count": 9,
   "id": "35ceb6c7",
   "metadata": {},
   "outputs": [],
   "source": [
    "features_valid, features_test, target_valid, target_test = train_test_split(features_test, target_test, test_size=0.5, random_state=12345)"
   ]
  },
  {
   "cell_type": "code",
   "execution_count": 10,
   "id": "ea43c1dd",
   "metadata": {},
   "outputs": [
    {
     "data": {
      "text/plain": [
       "(643, 4)"
      ]
     },
     "execution_count": 10,
     "metadata": {},
     "output_type": "execute_result"
    }
   ],
   "source": [
    "features_test.shape"
   ]
  },
  {
   "cell_type": "code",
   "execution_count": 11,
   "id": "7aa4856a",
   "metadata": {},
   "outputs": [
    {
     "data": {
      "text/plain": [
       "(643,)"
      ]
     },
     "execution_count": 11,
     "metadata": {},
     "output_type": "execute_result"
    }
   ],
   "source": [
    "target_test.shape"
   ]
  },
  {
   "cell_type": "markdown",
   "id": "871592a4",
   "metadata": {},
   "source": [
    "### Валидационная выборка"
   ]
  },
  {
   "cell_type": "code",
   "execution_count": 12,
   "id": "0d9ae402",
   "metadata": {},
   "outputs": [
    {
     "data": {
      "text/plain": [
       "(643, 4)"
      ]
     },
     "execution_count": 12,
     "metadata": {},
     "output_type": "execute_result"
    }
   ],
   "source": [
    "features_valid.shape"
   ]
  },
  {
   "cell_type": "code",
   "execution_count": 13,
   "id": "450632b5",
   "metadata": {},
   "outputs": [
    {
     "data": {
      "text/plain": [
       "(643,)"
      ]
     },
     "execution_count": 13,
     "metadata": {},
     "output_type": "execute_result"
    }
   ],
   "source": [
    "target_valid.shape"
   ]
  },
  {
   "cell_type": "markdown",
   "id": "256c9600",
   "metadata": {},
   "source": [
    "## 3. Исследование качества моделей"
   ]
  },
  {
   "cell_type": "markdown",
   "id": "0802a363",
   "metadata": {},
   "source": [
    "### Дерево решений. Decision Tree Classifier"
   ]
  },
  {
   "cell_type": "code",
   "execution_count": 14,
   "id": "5d4d8aea",
   "metadata": {},
   "outputs": [
    {
     "name": "stdout",
     "output_type": "stream",
     "text": [
      "Accurracy: 0.7853810264385692 Глубина дерева: 3\n"
     ]
    }
   ],
   "source": [
    "best_model_dtc = None\n",
    "best_depth_dtc = 0\n",
    "best_result_dtc = 0\n",
    "for depth in range(1, 11):\n",
    "    model_dtc = DecisionTreeClassifier(random_state=12345, max_depth = depth).fit(features_train, target_train)\n",
    "    predictions_valid_dtc = model_dtc.predict(features_valid)\n",
    "    result_dtc = accuracy_score(predictions_valid_dtc, target_valid)\n",
    "    if best_result_dtc < result_dtc:\n",
    "        best_model_dtc = model_dtc\n",
    "        best_depth_dtc = depth\n",
    "        best_result_dtc = result_dtc\n",
    "print(\"Accurracy:\", best_result_dtc, \"Глубина дерева:\", best_depth_dtc)       "
   ]
  },
  {
   "cell_type": "markdown",
   "id": "e1a43853",
   "metadata": {},
   "source": [
    "### Случайный лес. RandomForestClassifier"
   ]
  },
  {
   "cell_type": "code",
   "execution_count": 15,
   "id": "2b18f7ac",
   "metadata": {},
   "outputs": [
    {
     "name": "stderr",
     "output_type": "stream",
     "text": [
      "100%|██████████| 10/10 [00:01<00:00,  6.25it/s]"
     ]
    },
    {
     "name": "stdout",
     "output_type": "stream",
     "text": [
      "Accurracy: 0.80248833592535 Глубина дерева: 8 Количество деревьев: 8\n"
     ]
    },
    {
     "name": "stderr",
     "output_type": "stream",
     "text": [
      "\n"
     ]
    }
   ],
   "source": [
    "best_model_rfc = None\n",
    "best_est_rfc = 0\n",
    "best_depth_rfc = 0\n",
    "best_result_rfc = 0\n",
    "for est in tqdm(range(1, 11)):\n",
    "    for depth in range(1, 11):\n",
    "        model_rfc = RandomForestClassifier(random_state=12345, n_estimators=est, max_depth = depth).fit(features_train, target_train)\n",
    "        predictions_valid_rfc = model_rfc.predict(features_valid)\n",
    "        result_rfc = accuracy_score(predictions_valid_rfc, target_valid)\n",
    "        if best_result_rfc < result_rfc:\n",
    "            best_model_rfc = model_rfc\n",
    "            best_est_rfc = est\n",
    "            best_depth_rfc = depth\n",
    "            best_result_rfc = result_rfc\n",
    "print(\"Accurracy:\", best_result_rfc, \"Глубина дерева:\", best_depth_rfc, \"Количество деревьев:\", best_est_rfc)           "
   ]
  },
  {
   "cell_type": "markdown",
   "id": "b47fb41e",
   "metadata": {},
   "source": [
    "### Логистическая регрессия. Logistic Regression"
   ]
  },
  {
   "cell_type": "code",
   "execution_count": 16,
   "id": "f10a50e7",
   "metadata": {},
   "outputs": [
    {
     "name": "stdout",
     "output_type": "stream",
     "text": [
      "Accuracy: 0.7107309486780715\n"
     ]
    }
   ],
   "source": [
    "model_lr = LogisticRegression(random_state=12345).fit(features_train, target_train)\n",
    "predictions_valid_lr = model_lr.predict(features_valid)\n",
    "accuracy_lr = accuracy_score(predictions_valid_lr, target_valid)\n",
    "print(\"Accuracy:\", accuracy_lr,)"
   ]
  },
  {
   "cell_type": "markdown",
   "id": "fedbc877",
   "metadata": {},
   "source": [
    "### Вывод\n"
   ]
  },
  {
   "cell_type": "markdown",
   "id": "14d06519",
   "metadata": {},
   "source": [
    "На данном этапе лучший результат у модели Случайный лес - Accuracy: 0.8"
   ]
  },
  {
   "cell_type": "markdown",
   "id": "798f4a28",
   "metadata": {},
   "source": [
    "## 4. Проверка качества модели на тестовой выборке"
   ]
  },
  {
   "cell_type": "code",
   "execution_count": 17,
   "id": "3cb825cd",
   "metadata": {},
   "outputs": [
    {
     "name": "stdout",
     "output_type": "stream",
     "text": [
      "Accuracy RandomForestClassifier: 0.7962674961119751\n"
     ]
    }
   ],
   "source": [
    "model_rfc = RandomForestClassifier(random_state=12345, n_estimators = 8, max_depth = 8).fit(features_train, target_train)\n",
    "predictions_test_rfc = model_rfc.predict(features_test)\n",
    "result_test_rfc = accuracy_score(predictions_test_rfc, target_test)\n",
    "print('Accuracy RandomForestClassifier:', result_test_rfc)"
   ]
  },
  {
   "cell_type": "markdown",
   "id": "e7e8904f",
   "metadata": {},
   "source": [
    "Качество модели соотствует заданной метрике - Аccuracy больше 7.5"
   ]
  },
  {
   "cell_type": "markdown",
   "id": "a2f7dc3f",
   "metadata": {},
   "source": [
    "## 5. Проверка модели на вменяемость"
   ]
  },
  {
   "cell_type": "code",
   "execution_count": 18,
   "id": "03a60e0d",
   "metadata": {},
   "outputs": [
    {
     "name": "stdout",
     "output_type": "stream",
     "text": [
      "Accuracy DummyClassifier: 0.7060653188180405\n"
     ]
    }
   ],
   "source": [
    "model_dc = DummyClassifier(strategy='most_frequent', random_state=12345)\n",
    "model_dc.fit(features_train, target_train)\n",
    "result_dc = model_dc.score(features_valid, target_valid)\n",
    "print('Accuracy DummyClassifier:', result_dc)"
   ]
  },
  {
   "cell_type": "markdown",
   "id": "91a86143",
   "metadata": {},
   "source": [
    "Accuracy DummyClassifier ниже, чем у нашей модели (0.7 к 0.796). Это позволяет нам сделать вывод, что наша модель вменяема и адекватна"
   ]
  },
  {
   "cell_type": "markdown",
   "id": "07ab5f0d",
   "metadata": {},
   "source": [
    "## Общий вывод"
   ]
  },
  {
   "cell_type": "markdown",
   "id": "bcc075c5",
   "metadata": {},
   "source": [
    "В ходе исследования нами были созданы три модели машинного обучения: Дерево решений, Случайный лес и Логистическая регрессия. Каждая из этих моделей показала результат Accuracy равный 0.78, 0.8 и 0.71 соответсвенно. Лучший показатель - у модели Случайный лес, с ней мы продолжили работу. Дальнейшая проверка качества и проверка на вменяемость дали результат accuracy больше 7.5. Т.о. задачу считаем выполненной, рекомедуем использовать систему, построенную на модели Случайный лес."
   ]
  }
 ],
 "metadata": {
  "ExecuteTimeLog": [
   {
    "duration": 2059,
    "start_time": "2023-03-10T06:35:36.298Z"
   },
   {
    "duration": 162,
    "start_time": "2023-03-10T06:35:38.359Z"
   },
   {
    "duration": 0,
    "start_time": "2023-03-10T06:35:38.523Z"
   },
   {
    "duration": 0,
    "start_time": "2023-03-10T06:35:38.524Z"
   },
   {
    "duration": 0,
    "start_time": "2023-03-10T06:35:38.525Z"
   },
   {
    "duration": 0,
    "start_time": "2023-03-10T06:35:38.526Z"
   },
   {
    "duration": 0,
    "start_time": "2023-03-10T06:35:38.527Z"
   },
   {
    "duration": 0,
    "start_time": "2023-03-10T06:35:38.528Z"
   },
   {
    "duration": 0,
    "start_time": "2023-03-10T06:35:38.529Z"
   },
   {
    "duration": 0,
    "start_time": "2023-03-10T06:35:38.530Z"
   },
   {
    "duration": 0,
    "start_time": "2023-03-10T06:35:38.531Z"
   },
   {
    "duration": 0,
    "start_time": "2023-03-10T06:35:38.532Z"
   },
   {
    "duration": 0,
    "start_time": "2023-03-10T06:35:38.533Z"
   },
   {
    "duration": 0,
    "start_time": "2023-03-10T06:35:38.534Z"
   },
   {
    "duration": 0,
    "start_time": "2023-03-10T06:35:38.535Z"
   },
   {
    "duration": 0,
    "start_time": "2023-03-10T06:35:38.536Z"
   },
   {
    "duration": 0,
    "start_time": "2023-03-10T06:35:38.537Z"
   },
   {
    "duration": 0,
    "start_time": "2023-03-10T06:35:38.538Z"
   },
   {
    "duration": 2249,
    "start_time": "2023-03-10T06:36:20.573Z"
   },
   {
    "duration": 30,
    "start_time": "2023-03-10T06:36:22.825Z"
   },
   {
    "duration": 25,
    "start_time": "2023-03-10T06:36:22.858Z"
   },
   {
    "duration": 12,
    "start_time": "2023-03-10T06:36:22.886Z"
   },
   {
    "duration": 8,
    "start_time": "2023-03-10T06:36:22.901Z"
   },
   {
    "duration": 21,
    "start_time": "2023-03-10T06:36:22.911Z"
   },
   {
    "duration": 10,
    "start_time": "2023-03-10T06:36:22.934Z"
   },
   {
    "duration": 7,
    "start_time": "2023-03-10T06:36:22.946Z"
   },
   {
    "duration": 20,
    "start_time": "2023-03-10T06:36:22.955Z"
   },
   {
    "duration": 7,
    "start_time": "2023-03-10T06:36:22.977Z"
   },
   {
    "duration": 7,
    "start_time": "2023-03-10T06:36:22.986Z"
   },
   {
    "duration": 8,
    "start_time": "2023-03-10T06:36:22.995Z"
   },
   {
    "duration": 19,
    "start_time": "2023-03-10T06:36:23.006Z"
   },
   {
    "duration": 116,
    "start_time": "2023-03-10T06:36:23.027Z"
   },
   {
    "duration": 1946,
    "start_time": "2023-03-10T06:36:23.145Z"
   },
   {
    "duration": 31,
    "start_time": "2023-03-10T06:36:25.092Z"
   },
   {
    "duration": 49,
    "start_time": "2023-03-10T06:36:25.125Z"
   },
   {
    "duration": 6,
    "start_time": "2023-03-10T06:36:25.177Z"
   },
   {
    "duration": 5,
    "start_time": "2023-03-10T06:36:58.880Z"
   },
   {
    "duration": 1128,
    "start_time": "2023-03-10T08:43:51.954Z"
   },
   {
    "duration": 146,
    "start_time": "2023-03-10T08:43:54.455Z"
   },
   {
    "duration": 91,
    "start_time": "2023-03-10T08:46:01.001Z"
   },
   {
    "duration": 60,
    "start_time": "2023-03-10T08:46:07.124Z"
   },
   {
    "duration": 147,
    "start_time": "2023-03-10T08:51:06.369Z"
   },
   {
    "duration": 54,
    "start_time": "2023-03-10T08:52:19.546Z"
   },
   {
    "duration": 54,
    "start_time": "2023-03-10T08:52:24.902Z"
   },
   {
    "duration": 16,
    "start_time": "2023-03-10T08:52:31.054Z"
   },
   {
    "duration": 46,
    "start_time": "2023-03-10T08:54:15.813Z"
   },
   {
    "duration": 31,
    "start_time": "2023-03-10T08:55:30.498Z"
   },
   {
    "duration": 19,
    "start_time": "2023-03-10T08:55:37.048Z"
   },
   {
    "duration": 1100,
    "start_time": "2023-03-10T13:02:51.479Z"
   },
   {
    "duration": 183,
    "start_time": "2023-03-10T13:02:52.581Z"
   },
   {
    "duration": 17,
    "start_time": "2023-03-10T13:02:52.765Z"
   },
   {
    "duration": 11,
    "start_time": "2023-03-10T13:02:52.784Z"
   },
   {
    "duration": 10,
    "start_time": "2023-03-10T13:02:52.796Z"
   },
   {
    "duration": 10,
    "start_time": "2023-03-10T13:02:52.807Z"
   },
   {
    "duration": 5,
    "start_time": "2023-03-10T13:02:52.819Z"
   },
   {
    "duration": 9,
    "start_time": "2023-03-10T13:02:52.826Z"
   },
   {
    "duration": 6,
    "start_time": "2023-03-10T13:02:52.836Z"
   },
   {
    "duration": 3,
    "start_time": "2023-03-10T13:02:52.857Z"
   },
   {
    "duration": 20,
    "start_time": "2023-03-10T13:02:52.862Z"
   },
   {
    "duration": 24,
    "start_time": "2023-03-10T13:02:52.884Z"
   },
   {
    "duration": 12,
    "start_time": "2023-03-10T13:02:52.910Z"
   },
   {
    "duration": 74,
    "start_time": "2023-03-10T13:02:52.924Z"
   },
   {
    "duration": 1697,
    "start_time": "2023-03-10T13:02:53.000Z"
   },
   {
    "duration": 25,
    "start_time": "2023-03-10T13:02:54.699Z"
   },
   {
    "duration": 40,
    "start_time": "2023-03-10T13:02:54.725Z"
   },
   {
    "duration": 5,
    "start_time": "2023-03-10T13:02:54.767Z"
   },
   {
    "duration": 100,
    "start_time": "2023-03-10T13:06:29.139Z"
   },
   {
    "duration": 7,
    "start_time": "2023-03-10T13:06:54.959Z"
   },
   {
    "duration": 1806,
    "start_time": "2023-03-10T13:07:04.846Z"
   },
   {
    "duration": 1767,
    "start_time": "2023-03-10T13:07:27.676Z"
   },
   {
    "duration": 31,
    "start_time": "2023-03-10T13:08:17.951Z"
   },
   {
    "duration": 5,
    "start_time": "2023-03-10T13:08:35.192Z"
   },
   {
    "duration": 1166,
    "start_time": "2023-03-10T13:09:45.723Z"
   },
   {
    "duration": 32,
    "start_time": "2023-03-10T13:09:46.891Z"
   },
   {
    "duration": 17,
    "start_time": "2023-03-10T13:09:46.925Z"
   },
   {
    "duration": 11,
    "start_time": "2023-03-10T13:09:46.944Z"
   },
   {
    "duration": 10,
    "start_time": "2023-03-10T13:09:46.957Z"
   },
   {
    "duration": 12,
    "start_time": "2023-03-10T13:09:46.968Z"
   },
   {
    "duration": 9,
    "start_time": "2023-03-10T13:09:46.982Z"
   },
   {
    "duration": 8,
    "start_time": "2023-03-10T13:09:46.993Z"
   },
   {
    "duration": 10,
    "start_time": "2023-03-10T13:09:47.002Z"
   },
   {
    "duration": 5,
    "start_time": "2023-03-10T13:09:47.013Z"
   },
   {
    "duration": 7,
    "start_time": "2023-03-10T13:09:47.019Z"
   },
   {
    "duration": 7,
    "start_time": "2023-03-10T13:09:47.028Z"
   },
   {
    "duration": 5,
    "start_time": "2023-03-10T13:09:47.037Z"
   },
   {
    "duration": 73,
    "start_time": "2023-03-10T13:09:47.044Z"
   },
   {
    "duration": 1717,
    "start_time": "2023-03-10T13:09:47.119Z"
   },
   {
    "duration": 30,
    "start_time": "2023-03-10T13:09:48.838Z"
   },
   {
    "duration": 37,
    "start_time": "2023-03-10T13:09:48.869Z"
   },
   {
    "duration": 6,
    "start_time": "2023-03-10T13:09:48.907Z"
   },
   {
    "duration": 1136,
    "start_time": "2023-03-10T13:34:11.332Z"
   },
   {
    "duration": 33,
    "start_time": "2023-03-10T13:34:12.470Z"
   },
   {
    "duration": 17,
    "start_time": "2023-03-10T13:34:12.505Z"
   },
   {
    "duration": 13,
    "start_time": "2023-03-10T13:34:12.524Z"
   },
   {
    "duration": 8,
    "start_time": "2023-03-10T13:34:12.539Z"
   },
   {
    "duration": 19,
    "start_time": "2023-03-10T13:34:12.548Z"
   },
   {
    "duration": 22,
    "start_time": "2023-03-10T13:34:12.569Z"
   },
   {
    "duration": 16,
    "start_time": "2023-03-10T13:34:12.593Z"
   },
   {
    "duration": 14,
    "start_time": "2023-03-10T13:34:12.612Z"
   },
   {
    "duration": 16,
    "start_time": "2023-03-10T13:34:12.629Z"
   },
   {
    "duration": 12,
    "start_time": "2023-03-10T13:34:12.647Z"
   },
   {
    "duration": 18,
    "start_time": "2023-03-10T13:34:12.661Z"
   },
   {
    "duration": 20,
    "start_time": "2023-03-10T13:34:12.681Z"
   },
   {
    "duration": 75,
    "start_time": "2023-03-10T13:34:12.703Z"
   },
   {
    "duration": 1743,
    "start_time": "2023-03-10T13:34:12.779Z"
   },
   {
    "duration": 34,
    "start_time": "2023-03-10T13:34:14.524Z"
   },
   {
    "duration": 32,
    "start_time": "2023-03-10T13:34:14.560Z"
   },
   {
    "duration": 5,
    "start_time": "2023-03-10T13:34:14.594Z"
   },
   {
    "duration": 1150,
    "start_time": "2023-03-10T13:45:52.454Z"
   },
   {
    "duration": 32,
    "start_time": "2023-03-10T13:45:53.606Z"
   },
   {
    "duration": 17,
    "start_time": "2023-03-10T13:45:53.639Z"
   },
   {
    "duration": 12,
    "start_time": "2023-03-10T13:45:53.657Z"
   },
   {
    "duration": 8,
    "start_time": "2023-03-10T13:45:53.671Z"
   },
   {
    "duration": 6,
    "start_time": "2023-03-10T13:45:53.681Z"
   },
   {
    "duration": 4,
    "start_time": "2023-03-10T13:45:53.689Z"
   },
   {
    "duration": 4,
    "start_time": "2023-03-10T13:45:53.695Z"
   },
   {
    "duration": 8,
    "start_time": "2023-03-10T13:45:53.701Z"
   },
   {
    "duration": 5,
    "start_time": "2023-03-10T13:45:53.711Z"
   },
   {
    "duration": 5,
    "start_time": "2023-03-10T13:45:53.717Z"
   },
   {
    "duration": 9,
    "start_time": "2023-03-10T13:45:53.724Z"
   },
   {
    "duration": 6,
    "start_time": "2023-03-10T13:45:53.756Z"
   },
   {
    "duration": 73,
    "start_time": "2023-03-10T13:45:53.764Z"
   },
   {
    "duration": 1859,
    "start_time": "2023-03-10T13:45:53.839Z"
   },
   {
    "duration": 23,
    "start_time": "2023-03-10T13:45:55.700Z"
   },
   {
    "duration": 50,
    "start_time": "2023-03-10T13:45:55.725Z"
   },
   {
    "duration": 4,
    "start_time": "2023-03-10T13:45:55.777Z"
   },
   {
    "duration": 1067,
    "start_time": "2023-03-10T13:47:17.699Z"
   },
   {
    "duration": 35,
    "start_time": "2023-03-10T13:47:18.768Z"
   },
   {
    "duration": 15,
    "start_time": "2023-03-10T13:47:18.805Z"
   },
   {
    "duration": 10,
    "start_time": "2023-03-10T13:47:18.822Z"
   },
   {
    "duration": 8,
    "start_time": "2023-03-10T13:47:18.834Z"
   },
   {
    "duration": 7,
    "start_time": "2023-03-10T13:47:18.843Z"
   },
   {
    "duration": 9,
    "start_time": "2023-03-10T13:47:18.851Z"
   },
   {
    "duration": 8,
    "start_time": "2023-03-10T13:47:18.861Z"
   },
   {
    "duration": 5,
    "start_time": "2023-03-10T13:47:18.871Z"
   },
   {
    "duration": 5,
    "start_time": "2023-03-10T13:47:18.878Z"
   },
   {
    "duration": 11,
    "start_time": "2023-03-10T13:47:18.884Z"
   },
   {
    "duration": 10,
    "start_time": "2023-03-10T13:47:18.897Z"
   },
   {
    "duration": 9,
    "start_time": "2023-03-10T13:47:18.909Z"
   },
   {
    "duration": 70,
    "start_time": "2023-03-10T13:47:18.920Z"
   },
   {
    "duration": 1663,
    "start_time": "2023-03-10T13:47:18.991Z"
   },
   {
    "duration": 24,
    "start_time": "2023-03-10T13:47:20.658Z"
   },
   {
    "duration": 33,
    "start_time": "2023-03-10T13:47:20.684Z"
   },
   {
    "duration": 6,
    "start_time": "2023-03-10T13:47:20.719Z"
   },
   {
    "duration": 2094,
    "start_time": "2023-03-10T14:02:07.988Z"
   },
   {
    "duration": 30,
    "start_time": "2023-03-10T14:02:10.083Z"
   },
   {
    "duration": 16,
    "start_time": "2023-03-10T14:02:10.114Z"
   },
   {
    "duration": 11,
    "start_time": "2023-03-10T14:02:10.132Z"
   },
   {
    "duration": 4,
    "start_time": "2023-03-10T14:02:10.145Z"
   },
   {
    "duration": 5,
    "start_time": "2023-03-10T14:02:10.151Z"
   },
   {
    "duration": 5,
    "start_time": "2023-03-10T14:02:10.158Z"
   },
   {
    "duration": 16,
    "start_time": "2023-03-10T14:02:10.165Z"
   },
   {
    "duration": 5,
    "start_time": "2023-03-10T14:02:10.184Z"
   },
   {
    "duration": 7,
    "start_time": "2023-03-10T14:02:10.192Z"
   },
   {
    "duration": 7,
    "start_time": "2023-03-10T14:02:10.201Z"
   },
   {
    "duration": 32,
    "start_time": "2023-03-10T14:02:10.210Z"
   },
   {
    "duration": 6,
    "start_time": "2023-03-10T14:02:10.244Z"
   },
   {
    "duration": 76,
    "start_time": "2023-03-10T14:02:10.253Z"
   },
   {
    "duration": 1609,
    "start_time": "2023-03-10T14:02:10.331Z"
   },
   {
    "duration": 19,
    "start_time": "2023-03-10T14:02:11.942Z"
   },
   {
    "duration": 46,
    "start_time": "2023-03-10T14:02:11.963Z"
   },
   {
    "duration": 6,
    "start_time": "2023-03-10T14:02:12.011Z"
   }
  ],
  "kernelspec": {
   "display_name": "Python 3 (ipykernel)",
   "language": "python",
   "name": "python3"
  },
  "language_info": {
   "codemirror_mode": {
    "name": "ipython",
    "version": 3
   },
   "file_extension": ".py",
   "mimetype": "text/x-python",
   "name": "python",
   "nbconvert_exporter": "python",
   "pygments_lexer": "ipython3",
   "version": "3.9.5"
  },
  "toc": {
   "base_numbering": 1,
   "nav_menu": {},
   "number_sections": true,
   "sideBar": true,
   "skip_h1_title": true,
   "title_cell": "Table of Contents",
   "title_sidebar": "Contents",
   "toc_cell": false,
   "toc_position": {},
   "toc_section_display": true,
   "toc_window_display": false
  }
 },
 "nbformat": 4,
 "nbformat_minor": 5
}
